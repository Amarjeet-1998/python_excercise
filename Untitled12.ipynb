{
  "nbformat": 4,
  "nbformat_minor": 0,
  "metadata": {
    "colab": {
      "name": "Untitled12.ipynb",
      "provenance": [],
      "authorship_tag": "ABX9TyNq7VHAeNfeznUbtaGaByyc",
      "include_colab_link": true
    },
    "kernelspec": {
      "name": "python3",
      "display_name": "Python 3"
    },
    "language_info": {
      "name": "python"
    }
  },
  "cells": [
    {
      "cell_type": "markdown",
      "metadata": {
        "id": "view-in-github",
        "colab_type": "text"
      },
      "source": [
        "<a href=\"https://colab.research.google.com/github/Amarjeet-1998/python_excercise/blob/main/Untitled12.ipynb\" target=\"_parent\"><img src=\"https://colab.research.google.com/assets/colab-badge.svg\" alt=\"Open In Colab\"/></a>"
      ]
    },
    {
      "cell_type": "code",
      "metadata": {
        "id": "J1kHfJTmf6hf"
      },
      "source": [
        "%matplotlib inline\n",
        "from mlxtend.plotting import plot_decision_regions\n",
        "import matplotlib.pyplot as plt\n",
        "from sklearn import datasets\n",
        "from sklearn.model_selection import train_test_split"
      ],
      "execution_count": 1,
      "outputs": []
    },
    {
      "cell_type": "code",
      "metadata": {
        "id": "_ODb1Dmyf99D"
      },
      "source": [
        "# Loading some example data\n",
        "iris = datasets.load_iris()\n",
        "X = iris.data[:, [0, 2]][iris.target != 2]\n",
        "y = iris.target[iris.target != 2]"
      ],
      "execution_count": 2,
      "outputs": []
    },
    {
      "cell_type": "code",
      "metadata": {
        "id": "r-ECmwMAgGs7"
      },
      "source": [
        "X, _, y, _ = train_test_split(X, y, stratify = y, train_size = 0.08)"
      ],
      "execution_count": 3,
      "outputs": []
    },
    {
      "cell_type": "code",
      "metadata": {
        "id": "MLbQ3orRgOUK"
      },
      "source": [
        "# Training a RF classifier\n",
        "from sklearn.ensemble import RandomForestClassifier"
      ],
      "execution_count": 4,
      "outputs": []
    },
    {
      "cell_type": "code",
      "metadata": {
        "colab": {
          "base_uri": "https://localhost:8080/",
          "height": 487
        },
        "id": "0uJKsme3gRfW",
        "outputId": "79625116-1e09-4428-ed81-08f2e7a659f7"
      },
      "source": [
        "f, axs = plt.subplots(2,3,figsize=(10, 8))"
      ],
      "execution_count": 5,
      "outputs": [
        {
          "output_type": "display_data",
          "data": {
            "image/png": "[encoded data removed]",
            "text/plain": [
              "<Figure size 720x576 with 6 Axes>"
            ]
          },
          "metadata": {
            "needs_background": "light"
          }
        }
      ]
    },
    {
      "cell_type": "code",
      "metadata": {
        "id": "cWiwNNIpguEs"
      },
      "source": [
        "for ax in axs.flat:\n",
        "    rf = RandomForestClassifier(n_estimators = 10)\n",
        "    rf.fit(X, y)"
      ],
      "execution_count": 6,
      "outputs": []
    },
    {
      "cell_type": "code",
      "metadata": {
        "colab": {
          "base_uri": "https://localhost:8080/",
          "height": 87
        },
        "id": "Cgrxf51Ag0DA",
        "outputId": "633d2f72-7b85-4dde-a470-ebd91422ef75"
      },
      "source": [
        "# Plotting decision regions\n",
        "f = plot_decision_regions(X, y, clf=rf, ax = ax, legend=2)\n",
        "plt.show()"
      ],
      "execution_count": 15,
      "outputs": [
        {
          "output_type": "stream",
          "name": "stderr",
          "text": [
            "/usr/local/lib/python3.7/dist-packages/mlxtend/plotting/decision_regions.py:244: MatplotlibDeprecationWarning: Passing unsupported keyword arguments to axis() will raise a TypeError in 3.3.\n",
            "  ax.axis(xmin=xx.min(), xmax=xx.max(), y_min=yy.min(), y_max=yy.max())\n"
          ]
        },
        {
          "output_type": "display_data",
          "data": {
            "text/plain": [
              "<Figure size 432x288 with 0 Axes>"
            ]
          },
          "metadata": {}
        }
      ]
    },
    {
      "cell_type": "code",
      "metadata": {
        "id": "wkO2_6f-g3M6"
      },
      "source": [
        "plt.show()"
      ],
      "execution_count": 13,
      "outputs": []
    },
    {
      "cell_type": "code",
      "metadata": {
        "colab": {
          "base_uri": "https://localhost:8080/",
          "height": 705
        },
        "id": "5KHHIswkhfqI",
        "outputId": "14b7fa8e-65d4-4d51-c9f5-0e88306bff20"
      },
      "source": [
        "X [7] = X[7] + [2, -2]\n",
        "y[7] = 1\n",
        "\n",
        "f, axs = plt.subplots(2,3,figsize=(10, 8))\n",
        "       \n",
        "for ax in axs.flat:\n",
        "    rf = RandomForestClassifier(n_estimators = 10)\n",
        "    rf.fit(X, y)\n",
        "\n",
        "    # Plotting decision regions\n",
        "    f = plot_decision_regions(X, y, clf=rf, ax = ax, legend=2)\n",
        "\n",
        "plt.show()"
      ],
      "execution_count": 14,
      "outputs": [
        {
          "output_type": "stream",
          "name": "stderr",
          "text": [
            "/usr/local/lib/python3.7/dist-packages/mlxtend/plotting/decision_regions.py:244: MatplotlibDeprecationWarning: Passing unsupported keyword arguments to axis() will raise a TypeError in 3.3.\n",
            "  ax.axis(xmin=xx.min(), xmax=xx.max(), y_min=yy.min(), y_max=yy.max())\n",
            "/usr/local/lib/python3.7/dist-packages/mlxtend/plotting/decision_regions.py:244: MatplotlibDeprecationWarning: Passing unsupported keyword arguments to axis() will raise a TypeError in 3.3.\n",
            "  ax.axis(xmin=xx.min(), xmax=xx.max(), y_min=yy.min(), y_max=yy.max())\n",
            "/usr/local/lib/python3.7/dist-packages/mlxtend/plotting/decision_regions.py:244: MatplotlibDeprecationWarning: Passing unsupported keyword arguments to axis() will raise a TypeError in 3.3.\n",
            "  ax.axis(xmin=xx.min(), xmax=xx.max(), y_min=yy.min(), y_max=yy.max())\n",
            "/usr/local/lib/python3.7/dist-packages/mlxtend/plotting/decision_regions.py:244: MatplotlibDeprecationWarning: Passing unsupported keyword arguments to axis() will raise a TypeError in 3.3.\n",
            "  ax.axis(xmin=xx.min(), xmax=xx.max(), y_min=yy.min(), y_max=yy.max())\n",
            "/usr/local/lib/python3.7/dist-packages/mlxtend/plotting/decision_regions.py:244: MatplotlibDeprecationWarning: Passing unsupported keyword arguments to axis() will raise a TypeError in 3.3.\n",
            "  ax.axis(xmin=xx.min(), xmax=xx.max(), y_min=yy.min(), y_max=yy.max())\n",
            "/usr/local/lib/python3.7/dist-packages/mlxtend/plotting/decision_regions.py:244: MatplotlibDeprecationWarning: Passing unsupported keyword arguments to axis() will raise a TypeError in 3.3.\n",
            "  ax.axis(xmin=xx.min(), xmax=xx.max(), y_min=yy.min(), y_max=yy.max())\n"
          ]
        },
        {
          "output_type": "display_data",
          "data": {
            "image/png": "[encoded data removed]",
            "text/plain": [
              "<Figure size 720x576 with 6 Axes>"
            ]
          },
          "metadata": {
            "needs_background": "light"
          }
        }
      ]
    },
    {
      "cell_type": "code",
      "metadata": {
        "id": "nz9CYEffhnzH"
      },
      "source": [
        "# Adverserial Validation\n",
        "from scipy import sparse\n",
        "from sklearn.metrics import roc_auc_score\n",
        "from sklearn.ensemble import RandomForestClassifier\n",
        "from sklearn.linear_model import SGDClassifier\n",
        "from sklearn.model_selection import StratifiedKFold\n",
        "\n",
        "\n",
        "def adversarial_validation(X, Y, n_splits = 10):\n",
        "    \n",
        "    # Combine both datasets\n",
        "    sparse_merge = sparse.vstack((X, Y))\n",
        "    \n",
        "    # Label the datasets\n",
        "    y = np.array([0 for _ in range(X.shape[0])] + [1 for _ in range(Y.shape[0])])\n",
        "    \n",
        "    # Do 10 Fold CV \n",
        "    kfold = StratifiedKFold(n_splits = n_splits, shuffle = True)\n",
        "\n",
        "    lr_auc = np.array([])\n",
        "    rf_auc = np.array([])\n",
        "    for train_idx, test_idx in kfold.split(sparse_merge, y):\n",
        "    \n",
        "        #Run Log Reg\n",
        "        x_train, y_train = sparse_merge[train_idx], y[train_idx]\n",
        "        x_test, y_test = sparse_merge[test_idx], y[test_idx]\n",
        "        \n",
        "        log_reg = SGDClassifier(loss = 'log')\n",
        "        log_reg.fit(x_train, y_train)\n",
        "        y_test_prob = log_reg.predict_proba(x_test)[:,1]\n",
        "        lr_auc = np.append(lr_auc, roc_auc_score(y_test, y_test_prob))\n",
        "        # Run RF\n",
        "        rf = RandomForestClassifier(n_estimators = 100, n_jobs = -1)\n",
        "        rf.fit(x_train, y_train)\n",
        "        y_test_prob = rf.predict_proba(x_test)[:,1]\n",
        "        rf_auc = np.append(rf_auc, roc_auc_score(y_test, y_test_prob))"
      ],
      "execution_count": 26,
      "outputs": []
    },
    {
      "cell_type": "code",
      "metadata": {
        "id": "ubshZmTCiC4R"
      },
      "source": [
        ""
      ],
      "execution_count": 29,
      "outputs": []
    },
    {
      "cell_type": "code",
      "metadata": {
        "id": "hGsqMJ3ViKpF"
      },
      "source": [
        ""
      ],
      "execution_count": null,
      "outputs": []
    }
  ]
}