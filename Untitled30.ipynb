{
  "nbformat": 4,
  "nbformat_minor": 0,
  "metadata": {
    "colab": {
      "name": "Untitled30.ipynb",
      "provenance": [],
      "authorship_tag": "ABX9TyMZRxfNhMK7uZUuYcAlckl6",
      "include_colab_link": true
    },
    "kernelspec": {
      "name": "python3",
      "display_name": "Python 3"
    },
    "language_info": {
      "name": "python"
    }
  },
  "cells": [
    {
      "cell_type": "markdown",
      "metadata": {
        "id": "view-in-github",
        "colab_type": "text"
      },
      "source": [
        "<a href=\"https://colab.research.google.com/github/Amarjeet-1998/python_excercise/blob/main/Untitled30.ipynb\" target=\"_parent\"><img src=\"https://colab.research.google.com/assets/colab-badge.svg\" alt=\"Open In Colab\"/></a>"
      ]
    },
    {
      "cell_type": "markdown",
      "source": [
        "## 1. Suppose you are a university student and to pass the examination you need to score 50 or more. Lets look at a program to check if you passed the exam."
      ],
      "metadata": {
        "id": "ggcwEbkRvZPG"
      }
    },
    {
      "cell_type": "code",
      "execution_count": 3,
      "metadata": {
        "colab": {
          "base_uri": "https://localhost:8080/"
        },
        "id": "eio5OENjvSxG",
        "outputId": "3fe1056f-8241-438d-9317-d09b64fdcff6"
      },
      "outputs": [
        {
          "output_type": "stream",
          "name": "stdout",
          "text": [
            "Enter your Number: 80\n",
            "Congratulation\n",
            "You have successful passed this Exam\n"
          ]
        }
      ],
      "source": [
        "score = int(input(\"Enter your Number: \"))\n",
        "if score >= 50:\n",
        "  print(\"Congratulation\")\n",
        "  print(\"You have successful passed this Exam\")\n",
        "  \n",
        "  \n"
      ]
    },
    {
      "cell_type": "code",
      "source": [
        "score = 35\n",
        "\n",
        "if score >= 50:\n",
        "   print(\"You have passed your exam.\")\n",
        "   print(\"Congratulations!\")\n",
        "\n",
        "if score < 50:\n",
        "   print(\"Sorry, you have failed your exam.\")\n"
      ],
      "metadata": {
        "colab": {
          "base_uri": "https://localhost:8080/"
        },
        "id": "siSXOXOZvtDa",
        "outputId": "8aef55b0-63e5-4f5c-fb25-eff00a72e105"
      },
      "execution_count": 7,
      "outputs": [
        {
          "output_type": "stream",
          "name": "stdout",
          "text": [
            "Sorry, you have failed your exam.\n"
          ]
        }
      ]
    },
    {
      "cell_type": "code",
      "source": [
        "score = 35\n",
        "\n",
        "if score >= 50:\n",
        "   print(\"You have passed your exam.\")\n",
        "   print(\"Congratulations!\")\n",
        "else:\n",
        "   print(\"Sorry, you have failed your exam.\")"
      ],
      "metadata": {
        "colab": {
          "base_uri": "https://localhost:8080/"
        },
        "id": "FBBFC_YEwXdb",
        "outputId": "c7d232c0-ae66-47c6-e5cb-d3ded29a9604"
      },
      "execution_count": 8,
      "outputs": [
        {
          "output_type": "stream",
          "name": "stdout",
          "text": [
            "Sorry, you have failed your exam.\n"
          ]
        }
      ]
    },
    {
      "cell_type": "code",
      "source": [
        "score = 105\n",
        "\n",
        "if score > 100 or score < 0:\n",
        "   print(\"Score is invalid.\")\n",
        "elif score >= 50:\n",
        "   print(\"You have passed your exam.\")\n",
        "   print(\"Congratulations!\")\n",
        "else:\n",
        "   print(\"Sorry, you have failed your exam.\")"
      ],
      "metadata": {
        "colab": {
          "base_uri": "https://localhost:8080/"
        },
        "id": "XUTUFaatw-RL",
        "outputId": "b5809568-6cee-4427-d419-1ce3835d4f72"
      },
      "execution_count": 9,
      "outputs": [
        {
          "output_type": "stream",
          "name": "stdout",
          "text": [
            "Score is invalid.\n"
          ]
        }
      ]
    },
    {
      "cell_type": "markdown",
      "source": [
        "## **Programming Task**\n",
        "Can you create a program to check whether a number is positive or negative or 0?\n",
        "\n",
        "To create this program, create a variable named number and assign a float value to it based on the user input. Then using a if statement, check if the number variable is positive or negative or 0.\n",
        "\n",
        "If number is positive, print \"The number is positive\"\n",
        "If number is 0, print \"The number is 0\"\n",
        "If number is negative, print \"The number is negative\""
      ],
      "metadata": {
        "id": "whU7Eb66xONS"
      }
    },
    {
      "cell_type": "code",
      "source": [
        "number = float(input(\"Enter a number: \"))\n",
        "\n",
        "if number > 0:\n",
        "    print(\"The number is positive\")\n",
        "elif number == 0:\n",
        "    print(\"The number is 0\")\n",
        "else:\n",
        "    print(\"The number is negative\")"
      ],
      "metadata": {
        "colab": {
          "base_uri": "https://localhost:8080/"
        },
        "id": "rIaq6u5-xDtz",
        "outputId": "2b5966e2-79eb-4a51-d6f7-7900b609a2ad"
      },
      "execution_count": 12,
      "outputs": [
        {
          "output_type": "stream",
          "name": "stdout",
          "text": [
            "Enter a number: 0\n",
            "The number is 0\n"
          ]
        }
      ]
    },
    {
      "cell_type": "code",
      "source": [
        "number = float(input(\"Enter a number: \"))\n",
        "\n",
        "if number > 0:\n",
        "    print(\"The number is positive\")\n",
        "elif number < 0:\n",
        "    print(\"The number is negative\")\n",
        "else:\n",
        "    print(\"The number is 0\")"
      ],
      "metadata": {
        "colab": {
          "base_uri": "https://localhost:8080/"
        },
        "id": "qstbgUfYxdd1",
        "outputId": "f4eea6df-db05-4274-8d7b-ccef125d7d97"
      },
      "execution_count": 13,
      "outputs": [
        {
          "output_type": "stream",
          "name": "stdout",
          "text": [
            "Enter a number: 8\n",
            "The number is positive\n"
          ]
        }
      ]
    },
    {
      "cell_type": "code",
      "source": [
        "number = float(input(\"Enter a number: \"))\n",
        "\n",
        "if number >= 0:\n",
        "    # At this point, number is either 0 or a positive number\n",
        "    if number > 0:\n",
        "        print(\"The number is positive\")\n",
        "    else:\n",
        "        print(\"The number is 0\")\n",
        "else:\n",
        "    print(\"The number is negative\")"
      ],
      "metadata": {
        "colab": {
          "base_uri": "https://localhost:8080/"
        },
        "id": "kfkLd4lrxtme",
        "outputId": "f9383e01-c3cc-4abf-f8ee-de3d19635639"
      },
      "execution_count": 14,
      "outputs": [
        {
          "output_type": "stream",
          "name": "stdout",
          "text": [
            "Enter a number: 0\n",
            "The number is 0\n"
          ]
        }
      ]
    },
    {
      "cell_type": "code",
      "source": [
        ""
      ],
      "metadata": {
        "id": "u2j4cIW0x4GM"
      },
      "execution_count": null,
      "outputs": []
    }
  ]
}