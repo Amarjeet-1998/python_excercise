{
  "nbformat": 4,
  "nbformat_minor": 0,
  "metadata": {
    "colab": {
      "provenance": [],
      "collapsed_sections": [],
      "authorship_tag": "ABX9TyP+0BQAmqQO08OlQ8ta3oPk",
      "include_colab_link": true
    },
    "kernelspec": {
      "name": "python3",
      "display_name": "Python 3"
    },
    "language_info": {
      "name": "python"
    }
  },
  "cells": [
    {
      "cell_type": "markdown",
      "metadata": {
        "id": "view-in-github",
        "colab_type": "text"
      },
      "source": [
        "<a href=\"https://colab.research.google.com/github/Amarjeet-1998/python_excercise/blob/main/Python_exercise_Practice.ipynb\" target=\"_parent\"><img src=\"https://colab.research.google.com/assets/colab-badge.svg\" alt=\"Open In Colab\"/></a>"
      ]
    },
    {
      "cell_type": "markdown",
      "source": [
        "For this exercise\n",
        "\n",
        "* Write a function (\n",
        "guessing_game\n",
        ") that takes no arguments.\n",
        "\n",
        "* When run, the function chooses a random integer between 0 and 100 (inclusive).\n",
        "\n",
        "* Then ask the user to guess what number has been chosen.\n",
        "\n",
        "* Each time the user enters a guess, the program indicates one of the following:\n",
        "– Too high\n",
        "– Too low\n",
        "– Just right\n",
        "\n",
        "* If the user guesses correctly, the program exits. Otherwise, the user is asked to\n",
        "try again.\n",
        "\n",
        "* The program only exits after the user guesses correctly\n"
      ],
      "metadata": {
        "id": "6_f5K3SkrKuo"
      }
    },
    {
      "cell_type": "code",
      "execution_count": null,
      "metadata": {
        "id": "GLKCxFCvrFpC"
      },
      "outputs": [],
      "source": [
        "import random\n",
        "number = random.randint(10,30)"
      ]
    },
    {
      "cell_type": "code",
      "source": [
        "number"
      ],
      "metadata": {
        "colab": {
          "base_uri": "https://localhost:8080/"
        },
        "id": "gR-OFxL7rliL",
        "outputId": "d40ff69c-e24d-4a16-cc82-371de43ba98e"
      },
      "execution_count": null,
      "outputs": [
        {
          "output_type": "execute_result",
          "data": {
            "text/plain": [
              "22"
            ]
          },
          "metadata": {},
          "execution_count": 5
        }
      ]
    },
    {
      "cell_type": "code",
      "source": [
        "name = input ('Enter your name: ')\n",
        "print(f'Hello, {name} !')"
      ],
      "metadata": {
        "colab": {
          "base_uri": "https://localhost:8080/"
        },
        "id": "LrktuR_TrpeZ",
        "outputId": "5a1f2ae1-003a-42ed-fc69-658bd0d5c979"
      },
      "execution_count": null,
      "outputs": [
        {
          "output_type": "stream",
          "name": "stdout",
          "text": [
            "Enter your name: Amarjeet\n",
            "Hello, Amarjeet !\n"
          ]
        }
      ]
    },
    {
      "cell_type": "code",
      "source": [
        "import random\n",
        "\n",
        "def guessing_game():\n",
        "  answer = random.randint(0,100)\n",
        "\n",
        "  while True:\n",
        "    user_guess = int(input('what is your guess? '))\n",
        "\n",
        "    if user_guess == answer:\n",
        "      print(f'Right! This answer is {user_guess}')\n",
        "      break\n",
        "\n",
        "    if user_guess < answer:\n",
        "      print(f'Your guess of {user_guess} is too low!')\n",
        "\n",
        "    else:\n",
        "      print(f'Your guess of {user_guess} is too high!')\n",
        "\n",
        "guessing_game()"
      ],
      "metadata": {
        "colab": {
          "base_uri": "https://localhost:8080/"
        },
        "id": "hco05aQAsFYx",
        "outputId": "8bcbe46d-5db8-4cca-b4e3-026a2c298ae6"
      },
      "execution_count": null,
      "outputs": [
        {
          "output_type": "stream",
          "name": "stdout",
          "text": [
            "what is your guess? 25\n",
            "Your guess of 25 is too low!\n",
            "what is your guess? 69\n",
            "Your guess of 69 is too high!\n",
            "what is your guess? 45\n",
            "Your guess of 45 is too high!\n",
            "what is your guess? 36\n",
            "Your guess of 36 is too low!\n",
            "what is your guess? 41\n",
            "Your guess of 41 is too high!\n",
            "what is your guess? 38\n",
            "Your guess of 38 is too high!\n",
            "what is your guess? 37\n",
            "Right! This answer is 37\n"
          ]
        }
      ]
    },
    {
      "cell_type": "code",
      "source": [
        "name = 'world'\n",
        "f'Hello, {name}'"
      ],
      "metadata": {
        "colab": {
          "base_uri": "https://localhost:8080/",
          "height": 36
        },
        "id": "k9QarHpLucBU",
        "outputId": "b327d4da-72ac-4f07-e492-ec8e8d929b02"
      },
      "execution_count": null,
      "outputs": [
        {
          "output_type": "execute_result",
          "data": {
            "text/plain": [
              "'Hello, world'"
            ],
            "application/vnd.google.colaboratory.intrinsic+json": {
              "type": "string"
            }
          },
          "metadata": {},
          "execution_count": 8
        }
      ]
    },
    {
      "cell_type": "code",
      "source": [
        "def mysum(*numbers):\n",
        "  output = 0\n",
        "  for number in numbers:\n",
        "    output += number\n",
        "\n",
        "  return output\n",
        "\n",
        "print(mysum(10,20,30,40))\n"
      ],
      "metadata": {
        "colab": {
          "base_uri": "https://localhost:8080/"
        },
        "id": "YDsjP4cpwBUL",
        "outputId": "909ca7d4-2138-4d50-d587-b9ef4a360ec6"
      },
      "execution_count": null,
      "outputs": [
        {
          "output_type": "stream",
          "name": "stdout",
          "text": [
            "100\n"
          ]
        }
      ]
    },
    {
      "cell_type": "code",
      "source": [
        "try:\n",
        "  n = float(input('Enter a number: '))\n",
        "  print(f'n={n}')\n",
        "\n",
        "except ValueError as e:\n",
        "  print(\"Hey! That's not a valid number!\")\n",
        "\n",
        "\n"
      ],
      "metadata": {
        "colab": {
          "base_uri": "https://localhost:8080/"
        },
        "id": "jXm0Z--Nwlna",
        "outputId": "d9f72bb5-c5a4-436e-d916-2f0d33350a6b"
      },
      "execution_count": null,
      "outputs": [
        {
          "output_type": "stream",
          "name": "stdout",
          "text": [
            "Enter a number: amar\n",
            "Hey! That's not a valid number!\n"
          ]
        }
      ]
    },
    {
      "cell_type": "code",
      "source": [
        "def run_timing():\n",
        "  \"\"\" Ask the user repeatedly for numeric input. prints the average time and number of runs.\n",
        "  \"\"\"\n",
        "\n",
        "  number_of_runs = 0\n",
        "  total_time = 0\n",
        "\n",
        "  while True:\n",
        "    one_run = input('Enter 10 km run time: ')\n",
        "\n",
        "    if not one_run:\n",
        "      break\n",
        "\n",
        "      number_of_runs += 1\n",
        "      total_time += float(one_run)\n",
        "\n",
        "  average_time = total_time / number_of_runs\n",
        "  print(f'Average of {average_time}, over {number_of_runs} runs')\n",
        "\n",
        "run_timing()"
      ],
      "metadata": {
        "colab": {
          "base_uri": "https://localhost:8080/",
          "height": 391
        },
        "id": "jKrbzX4zxkye",
        "outputId": "87baa7de-786f-4d15-9938-222d75f59029"
      },
      "execution_count": null,
      "outputs": [
        {
          "name": "stdout",
          "output_type": "stream",
          "text": [
            "Enter 10 km run time: 25\n",
            "Enter 10 km run time: 25\n",
            "Enter 10 km run time: 25\n",
            "Enter 10 km run time: \n"
          ]
        },
        {
          "output_type": "error",
          "ename": "ZeroDivisionError",
          "evalue": "ignored",
          "traceback": [
            "\u001b[0;31m---------------------------------------------------------------------------\u001b[0m",
            "\u001b[0;31mZeroDivisionError\u001b[0m                         Traceback (most recent call last)",
            "\u001b[0;32m<ipython-input-16-f0866b564f91>\u001b[0m in \u001b[0;36m<module>\u001b[0;34m\u001b[0m\n\u001b[1;32m     18\u001b[0m   \u001b[0mprint\u001b[0m\u001b[0;34m(\u001b[0m\u001b[0;34mf'Average of {average_time}, over {number_of_runs} runs'\u001b[0m\u001b[0;34m)\u001b[0m\u001b[0;34m\u001b[0m\u001b[0;34m\u001b[0m\u001b[0m\n\u001b[1;32m     19\u001b[0m \u001b[0;34m\u001b[0m\u001b[0m\n\u001b[0;32m---> 20\u001b[0;31m \u001b[0mrun_timing\u001b[0m\u001b[0;34m(\u001b[0m\u001b[0;34m)\u001b[0m\u001b[0;34m\u001b[0m\u001b[0;34m\u001b[0m\u001b[0m\n\u001b[0m",
            "\u001b[0;32m<ipython-input-16-f0866b564f91>\u001b[0m in \u001b[0;36mrun_timing\u001b[0;34m()\u001b[0m\n\u001b[1;32m     15\u001b[0m       \u001b[0mtotal_time\u001b[0m \u001b[0;34m+=\u001b[0m \u001b[0mfloat\u001b[0m\u001b[0;34m(\u001b[0m\u001b[0mone_run\u001b[0m\u001b[0;34m)\u001b[0m\u001b[0;34m\u001b[0m\u001b[0;34m\u001b[0m\u001b[0m\n\u001b[1;32m     16\u001b[0m \u001b[0;34m\u001b[0m\u001b[0m\n\u001b[0;32m---> 17\u001b[0;31m   \u001b[0maverage_time\u001b[0m \u001b[0;34m=\u001b[0m \u001b[0mtotal_time\u001b[0m \u001b[0;34m/\u001b[0m \u001b[0mnumber_of_runs\u001b[0m\u001b[0;34m\u001b[0m\u001b[0;34m\u001b[0m\u001b[0m\n\u001b[0m\u001b[1;32m     18\u001b[0m   \u001b[0mprint\u001b[0m\u001b[0;34m(\u001b[0m\u001b[0;34mf'Average of {average_time}, over {number_of_runs} runs'\u001b[0m\u001b[0;34m)\u001b[0m\u001b[0;34m\u001b[0m\u001b[0;34m\u001b[0m\u001b[0m\n\u001b[1;32m     19\u001b[0m \u001b[0;34m\u001b[0m\u001b[0m\n",
            "\u001b[0;31mZeroDivisionError\u001b[0m: division by zero"
          ]
        }
      ]
    },
    {
      "cell_type": "code",
      "source": [
        "for index, one_letter in enumerate('abcd'):\n",
        "  print(f'{index}: {one_letter}')"
      ],
      "metadata": {
        "colab": {
          "base_uri": "https://localhost:8080/"
        },
        "id": "OD3TtN_2y4OI",
        "outputId": "b7aa8aad-1b0e-4713-fa1c-a9c268bd72bb"
      },
      "execution_count": null,
      "outputs": [
        {
          "output_type": "stream",
          "name": "stdout",
          "text": [
            "0: a\n",
            "1: b\n",
            "2: c\n",
            "3: d\n"
          ]
        }
      ]
    },
    {
      "cell_type": "code",
      "source": [
        "def hex_output():\n",
        "  decnum = 0\n",
        "  hexnum = input('Enter a hex number to convert: ')\n",
        "  for power, digit in enumerate (reversed(hexnum)):\n",
        "    decnum += int(digit, 16) * (16 ** power)\n",
        "\n",
        "  print(decnum)\n",
        "\n",
        "hex_output()"
      ],
      "metadata": {
        "colab": {
          "base_uri": "https://localhost:8080/"
        },
        "id": "9j_zoLPc9I-O",
        "outputId": "6a9559c3-db31-4d16-daa0-c5c8868156ff"
      },
      "execution_count": null,
      "outputs": [
        {
          "output_type": "stream",
          "name": "stdout",
          "text": [
            "Enter a hex number to convert: 34567788\n",
            "878081928\n"
          ]
        }
      ]
    },
    {
      "cell_type": "markdown",
      "source": [
        "# Strings"
      ],
      "metadata": {
        "id": "ryC_1x9j-ejq"
      }
    },
    {
      "cell_type": "code",
      "source": [
        "def latin(word):\n",
        "  if word[0] in 'aeiou':\n",
        "    return f'{word}way'\n",
        "\n",
        "  return f'{word[1:]}{word[0]}ay'\n",
        "\n",
        "print(latin('python'))\n"
      ],
      "metadata": {
        "colab": {
          "base_uri": "https://localhost:8080/"
        },
        "id": "qys6TaLx-EUg",
        "outputId": "c62fbe0b-6253-4089-ceb7-ea72a2f44582"
      },
      "execution_count": null,
      "outputs": [
        {
          "output_type": "stream",
          "name": "stdout",
          "text": [
            "ythonpay\n"
          ]
        }
      ]
    },
    {
      "cell_type": "code",
      "source": [
        "def pl_sentence(sentence):\n",
        "  output = []\n",
        "  for word in sentence.split():\n",
        "    if word[0] in 'aeiou':\n",
        "      output.append(f'{word}way')\n",
        "    else:\n",
        "      output.append(f'{word[1:]}{word[0]}ay')\n",
        "    \n",
        "  return ' '.join(output)\n",
        "\n",
        "print(pl_sentence('this is a test'))"
      ],
      "metadata": {
        "colab": {
          "base_uri": "https://localhost:8080/"
        },
        "id": "R8vp0WfZBp_2",
        "outputId": "5fa26914-d35f-4d4b-ffcf-1720872e69d5"
      },
      "execution_count": null,
      "outputs": [
        {
          "output_type": "stream",
          "name": "stdout",
          "text": [
            "histay isway away esttay\n"
          ]
        }
      ]
    },
    {
      "cell_type": "code",
      "source": [
        "def ubbi_dubbi(word):\n",
        "  output = []\n",
        "\n",
        "  for letter in word:\n",
        "    if letter in 'aeiou':\n",
        "      output.append(f'ub{letter}')\n",
        "    else:\n",
        "      output.append(letter)\n",
        "\n",
        "  return ''.join(output)\n",
        "\n",
        "print(ubbi_dubbi('python'))"
      ],
      "metadata": {
        "colab": {
          "base_uri": "https://localhost:8080/"
        },
        "id": "O7JFOGijC5OL",
        "outputId": "d15b7cf5-e3e4-48e1-9299-6cd5f744ed65"
      },
      "execution_count": null,
      "outputs": [
        {
          "output_type": "stream",
          "name": "stdout",
          "text": [
            "pythubon\n"
          ]
        }
      ]
    },
    {
      "cell_type": "code",
      "source": [
        "def strsort(a_string):\n",
        "  return ''.join(sorted(a_string))\n",
        "\n",
        "print(strsort('cbjeaf'))"
      ],
      "metadata": {
        "colab": {
          "base_uri": "https://localhost:8080/"
        },
        "id": "ZYva2PS7Di3x",
        "outputId": "aec37056-16b2-458d-ee98-dad0c3fa0607"
      },
      "execution_count": null,
      "outputs": [
        {
          "output_type": "stream",
          "name": "stdout",
          "text": [
            "abcefj\n"
          ]
        }
      ]
    },
    {
      "cell_type": "markdown",
      "source": [
        "# Lists and tuples"
      ],
      "metadata": {
        "id": "hmelUfkiEAbL"
      }
    },
    {
      "cell_type": "code",
      "source": [
        "mylist = [10,20,30,40,50]\n",
        "\n",
        "first = mylist[1:3]\n",
        "last = mylist[3:5]"
      ],
      "metadata": {
        "id": "gur98lvNDv4M"
      },
      "execution_count": null,
      "outputs": []
    },
    {
      "cell_type": "code",
      "source": [
        "first"
      ],
      "metadata": {
        "colab": {
          "base_uri": "https://localhost:8080/"
        },
        "id": "8nOMB6apE-X-",
        "outputId": "4ea7063e-ac4a-4f17-d439-b2f6a7cb047b"
      },
      "execution_count": null,
      "outputs": [
        {
          "output_type": "execute_result",
          "data": {
            "text/plain": [
              "[20, 30]"
            ]
          },
          "metadata": {},
          "execution_count": 27
        }
      ]
    },
    {
      "cell_type": "code",
      "source": [
        "last"
      ],
      "metadata": {
        "colab": {
          "base_uri": "https://localhost:8080/"
        },
        "id": "T9N_9AsYE_eR",
        "outputId": "fa9717c1-5e49-44fc-e392-554db06f0ba4"
      },
      "execution_count": null,
      "outputs": [
        {
          "output_type": "execute_result",
          "data": {
            "text/plain": [
              "[40, 50]"
            ]
          },
          "metadata": {},
          "execution_count": 28
        }
      ]
    },
    {
      "cell_type": "code",
      "source": [
        "t = (10,20,30,40,50)\n",
        "\n",
        "first = t[1:3]\n",
        "last = t[3:5]"
      ],
      "metadata": {
        "id": "rZp2urFIFAmE"
      },
      "execution_count": null,
      "outputs": []
    },
    {
      "cell_type": "code",
      "source": [
        "first\n"
      ],
      "metadata": {
        "colab": {
          "base_uri": "https://localhost:8080/"
        },
        "id": "5I5oi107FL1V",
        "outputId": "d11b2117-d8f0-42ec-eacc-fbe1d8c5c324"
      },
      "execution_count": null,
      "outputs": [
        {
          "output_type": "execute_result",
          "data": {
            "text/plain": [
              "(20, 30)"
            ]
          },
          "metadata": {},
          "execution_count": 31
        }
      ]
    },
    {
      "cell_type": "code",
      "source": [
        "last"
      ],
      "metadata": {
        "colab": {
          "base_uri": "https://localhost:8080/"
        },
        "id": "lIvhGcEOFO6w",
        "outputId": "cf6ffacb-7018-4ba2-feb1-af041972cb8d"
      },
      "execution_count": null,
      "outputs": [
        {
          "output_type": "execute_result",
          "data": {
            "text/plain": [
              "(40, 50)"
            ]
          },
          "metadata": {},
          "execution_count": 32
        }
      ]
    },
    {
      "cell_type": "code",
      "source": [
        "def firstlast (sequence):\n",
        "  return sequence[0] + sequence[-1]\n",
        "\n",
        "t1 = ('a','b','c')\n",
        "output1 = firstlast(t1)\n",
        "print(output1)"
      ],
      "metadata": {
        "colab": {
          "base_uri": "https://localhost:8080/"
        },
        "id": "BTLxNyQKFSBK",
        "outputId": "3ec62077-4272-411e-c695-0f9f132cb118"
      },
      "execution_count": null,
      "outputs": [
        {
          "output_type": "stream",
          "name": "stdout",
          "text": [
            "ac\n"
          ]
        }
      ]
    },
    {
      "cell_type": "code",
      "source": [
        "t2 = (1,2,3,4)\n",
        "\n",
        "output2 = firstlast(t2)\n",
        "print(output2)"
      ],
      "metadata": {
        "colab": {
          "base_uri": "https://localhost:8080/"
        },
        "id": "MFhD1gT-FrHn",
        "outputId": "3d5d424f-1bac-4337-9282-80021ecc2552"
      },
      "execution_count": null,
      "outputs": [
        {
          "output_type": "stream",
          "name": "stdout",
          "text": [
            "5\n"
          ]
        }
      ]
    },
    {
      "cell_type": "code",
      "source": [
        "import sys\n",
        "mylist = []\n",
        "for i in range(25):\n",
        "  l = len(mylist)\n",
        "  s = sys.getsizeof(mylist)\n",
        "  print(f'len = {l}, size = {s}')\n",
        "  mylist.append(i)"
      ],
      "metadata": {
        "colab": {
          "base_uri": "https://localhost:8080/"
        },
        "id": "a0j62RY5F5lv",
        "outputId": "9cbf6842-9eee-497d-c126-bfa8cab3d756"
      },
      "execution_count": null,
      "outputs": [
        {
          "output_type": "stream",
          "name": "stdout",
          "text": [
            "len = 0, size = 72\n",
            "len = 1, size = 104\n",
            "len = 2, size = 104\n",
            "len = 3, size = 104\n",
            "len = 4, size = 104\n",
            "len = 5, size = 136\n",
            "len = 6, size = 136\n",
            "len = 7, size = 136\n",
            "len = 8, size = 136\n",
            "len = 9, size = 200\n",
            "len = 10, size = 200\n",
            "len = 11, size = 200\n",
            "len = 12, size = 200\n",
            "len = 13, size = 200\n",
            "len = 14, size = 200\n",
            "len = 15, size = 200\n",
            "len = 16, size = 200\n",
            "len = 17, size = 272\n",
            "len = 18, size = 272\n",
            "len = 19, size = 272\n",
            "len = 20, size = 272\n",
            "len = 21, size = 272\n",
            "len = 22, size = 272\n",
            "len = 23, size = 272\n",
            "len = 24, size = 272\n"
          ]
        }
      ]
    },
    {
      "cell_type": "code",
      "source": [
        "def mysum(*items):\n",
        "  if not items:\n",
        "    return items\n",
        "  output = items[0]\n",
        "  for item in items[1:]:\n",
        "    output += item\n",
        "  \n",
        "  return output\n",
        "\n",
        "print(mysum(10,20,30,40))\n"
      ],
      "metadata": {
        "colab": {
          "base_uri": "https://localhost:8080/"
        },
        "id": "UPCbi0TcGjZa",
        "outputId": "3c133f4b-4528-49bb-cfea-be2164e91855"
      },
      "execution_count": null,
      "outputs": [
        {
          "output_type": "stream",
          "name": "stdout",
          "text": [
            "100\n"
          ]
        }
      ]
    },
    {
      "cell_type": "code",
      "source": [
        "def mysum(*items):\n",
        "  if not items:\n",
        "    return items\n",
        "  output = items[0]\n",
        "\n",
        "  for item in items[1:]:\n",
        "    output += item\n",
        "\n",
        "  return output\n",
        "\n",
        "print(mysum())\n",
        "print(mysum(10,20,30,40,50))\n",
        "print(mysum('a','b','c','d'))\n",
        "print(mysum([10,20,30],[40,50,60], [70,80]))\n"
      ],
      "metadata": {
        "colab": {
          "base_uri": "https://localhost:8080/"
        },
        "id": "-myKr2TSHI5N",
        "outputId": "5eb8a69b-c795-4a6f-930d-16c92137202b"
      },
      "execution_count": null,
      "outputs": [
        {
          "output_type": "stream",
          "name": "stdout",
          "text": [
            "()\n",
            "150\n",
            "abcd\n",
            "[10, 20, 30, 40, 50, 60, 70, 80]\n"
          ]
        }
      ]
    },
    {
      "cell_type": "code",
      "source": [
        "import operator\n",
        "people = [{'first':'Reuven','last':'Learner',\n",
        "           'email':'reuven@learner,co,il'},\n",
        "          {'first': 'Donald','last':'Trump',\n",
        "           'email':'president@ksd.hi'},\n",
        "          {'first':'Amar','last':'kumar',\n",
        "           'email':'president@ksd.hi'}\n",
        "          ]\n",
        "\n",
        "def alphabetize_name(list_of_dicts):\n",
        "  return sorted(list_of_dicts,\n",
        "                key = operator.itemgetter('last','first'))\n",
        "  \n",
        "print(alphabetize_name(people))"
      ],
      "metadata": {
        "colab": {
          "base_uri": "https://localhost:8080/"
        },
        "id": "8SOyeHt6H7Oq",
        "outputId": "89cee02b-b267-44b2-ab90-ac60b81dd417"
      },
      "execution_count": null,
      "outputs": [
        {
          "output_type": "stream",
          "name": "stdout",
          "text": [
            "[{'first': 'Reuven', 'last': 'Learner', 'email': 'reuven@learner,co,il'}, {'first': 'Donald', 'last': 'Trump', 'email': 'president@ksd.hi'}, {'first': 'Amar', 'last': 'kumar', 'email': 'president@ksd.hi'}]\n"
          ]
        }
      ]
    },
    {
      "cell_type": "code",
      "source": [
        "import operator\n",
        "PEOPLE = [('Donald', 'Trump', 7.85),\n",
        "('Vladimir', 'Putin', 3.626),\n",
        "('Jinping', 'Xi', 10.603)]\n",
        "\n",
        "def format_sort_records(list_of_tuples):\n",
        "  output = []\n",
        "  template = '{1:10} {0:10} {2:5.2f}'\n",
        "  for person in sorted(list_of_tuples,\n",
        "                       key=operator.itemgetter(1,0)):\n",
        "    \n",
        "    output.append(template.format(*person))\n",
        "  return output\n",
        "\n",
        "print('\\n'.join(format_sort_records(PEOPLE)))"
      ],
      "metadata": {
        "id": "3Vy1dFvnJcSC",
        "colab": {
          "base_uri": "https://localhost:8080/"
        },
        "outputId": "da0d349d-619e-4ce2-9061-7a8b90769327"
      },
      "execution_count": 2,
      "outputs": [
        {
          "output_type": "stream",
          "name": "stdout",
          "text": [
            "Putin      Vladimir    3.63\n",
            "Trump      Donald      7.85\n",
            "Xi         Jinping    10.60\n"
          ]
        }
      ]
    },
    {
      "cell_type": "code",
      "source": [
        "#Defines a constant dict with item names (strings) and prices(integer)\n",
        "MENU = {'sandwich': 10, 'tea': 7,'salad':9}\n",
        "\n",
        "#Keeps asking the user for input, until an explicit \"break\" from the loop\n",
        "def restaurant():\n",
        "  total = 0\n",
        "  while True:\n",
        "    order = input('Order: ').strip()       #Gets the user's input, and uses str.strip to remove leading and trailing whitespace\n",
        "\n",
        "    if not order:                      #if 'order' is an empty string,break out of the loop.\n",
        "      break\n",
        "\n",
        "    if order in MENU:                 # if \"order\" is a defined menu item, then get its price and add to total\n",
        "      price = MENU[order]\n",
        "      total += price\n",
        "      print(f'{order} is {price}, total is {total}')\n",
        "\n",
        "    else:                                          # if \"order\" is neither empty nor in the dict, then we don't serve this item.\n",
        "      print(f'We are fresh out of {order} today')\n",
        "  \n",
        "  \n",
        "  print(f'Your total is {total}')\n",
        "\n",
        "restaurant()\n",
        "\n"
      ],
      "metadata": {
        "colab": {
          "base_uri": "https://localhost:8080/"
        },
        "id": "zA7p3z5kEX1R",
        "outputId": "0b2d5ae1-de33-481e-cbed-1796dbe90966"
      },
      "execution_count": 5,
      "outputs": [
        {
          "output_type": "stream",
          "name": "stdout",
          "text": [
            "Order: tea\n",
            "tea is 7, total is 7\n",
            "Order: sandwich\n",
            "sandwich is 10, total is 17\n",
            "Order: salad\n",
            "salad is 9, total is 26\n",
            "Order: \n",
            "Your total is 26\n"
          ]
        }
      ]
    },
    {
      "cell_type": "code",
      "source": [
        "def get_rainfall():\n",
        "  rainfall = {}\n",
        "\n",
        "  while True:\n",
        "    city_name = input('Enter city name: ')\n",
        "    if not city_name:\n",
        "      break\n",
        "\n",
        "    mm_rain = input('Enter mm rain: ')\n",
        "    rainfall[city_name] = rainfall.get(city_name,0) + int(mm_rain)\n",
        "\n",
        "  for city,rain in rainfall.items():\n",
        "    print(f'{city} : {rain}')\n",
        "\n",
        "get_rainfall()"
      ],
      "metadata": {
        "colab": {
          "base_uri": "https://localhost:8080/"
        },
        "id": "f3B7D5aBJzVu",
        "outputId": "089957d4-1e29-422d-d87e-3aebfa3e0c56"
      },
      "execution_count": 7,
      "outputs": [
        {
          "output_type": "stream",
          "name": "stdout",
          "text": [
            "Enter city name: boston\n",
            "Enter mm rain: 12\n",
            "Enter city name: New York\n",
            "Enter mm rain: 10\n",
            "Enter city name: alaska\n",
            "Enter mm rain: 28\n",
            "Enter city name: wisconsin\n",
            "Enter mm rain: 14\n",
            "Enter city name: \n",
            "boston : 12\n",
            "New York : 10\n",
            "alaska : 28\n",
            "wisconsin : 14\n"
          ]
        }
      ]
    },
    {
      "cell_type": "code",
      "source": [
        "def dicdiff(first, second):\n",
        "  output = {}\n",
        "  all_keys = first.keys() | second.keys()\n",
        "\n",
        "\n",
        "  for key in all_keys:\n",
        "    if first.get(key) != second.get(key):\n",
        "      output[key] = [first.get(key), second.get(key)]\n",
        "\n",
        "  return output\n",
        "\n",
        "d1 = {'a': 1,'b':2,'c': 3}\n",
        "d2 = {'a':1,'b':2,'c':4}\n",
        "\n",
        "print(dicdiff(d1,d2))"
      ],
      "metadata": {
        "colab": {
          "base_uri": "https://localhost:8080/"
        },
        "id": "eDI9F9eiMyXf",
        "outputId": "752084a6-8ab6-49f0-d71e-dfd6dd0926e8"
      },
      "execution_count": 9,
      "outputs": [
        {
          "output_type": "stream",
          "name": "stdout",
          "text": [
            "{'c': [3, 4]}\n"
          ]
        }
      ]
    },
    {
      "cell_type": "code",
      "source": [
        "def how_many_different_numbers(numbers):\n",
        "  unique_numbers = set(numbers)\n",
        "  return len(unique_numbers)\n",
        "\n",
        "print(how_many_different_numbers([1,2,3,4,5,6,75,7,5,4,63,6,3,3]))"
      ],
      "metadata": {
        "colab": {
          "base_uri": "https://localhost:8080/"
        },
        "id": "t24qzpNfOMjh",
        "outputId": "04e58885-ec8a-46e6-a48d-46b4a5a49bc6"
      },
      "execution_count": 10,
      "outputs": [
        {
          "output_type": "stream",
          "name": "stdout",
          "text": [
            "9\n"
          ]
        }
      ]
    },
    {
      "cell_type": "code",
      "source": [],
      "metadata": {
        "id": "k0uCdSS2PLOj"
      },
      "execution_count": 12,
      "outputs": []
    },
    {
      "cell_type": "markdown",
      "source": [
        "f = open(filename)\n",
        "\n",
        "f = open(openfile, 'r')\n"
      ],
      "metadata": {
        "id": "RPzig4E2TD5O"
      }
    },
    {
      "cell_type": "code",
      "source": [
        "''' for current_line in f:\n",
        "    print(current_line)'''\n",
        "\n",
        "''' for current_line in open(filename):\n",
        "      print(current_line)'''\n",
        "\n",
        "\"\"\" with open(filename) as f:\n",
        "      for one_line in f:\n",
        "        print(len(one_line))\"\"\" \n",
        "\n",
        "  "
      ],
      "metadata": {
        "colab": {
          "base_uri": "https://localhost:8080/",
          "height": 53
        },
        "id": "fvZAMTvPRun9",
        "outputId": "1250fb88-8328-46f9-a100-8a02722f8199"
      },
      "execution_count": 13,
      "outputs": [
        {
          "output_type": "execute_result",
          "data": {
            "text/plain": [
              "' with open(filename) as f:\\n      for one_line in f:\\n        print(len(one_line))'"
            ],
            "application/vnd.google.colaboratory.intrinsic+json": {
              "type": "string"
            }
          },
          "metadata": {},
          "execution_count": 13
        }
      ]
    },
    {
      "cell_type": "code",
      "source": [
        "'''def get_final_line(filename):\n",
        "  final_line = ''\n",
        "  for current_line in open(filename):\n",
        "    final_line = current_line\n",
        "  return final_line\n",
        "\n",
        "print(get_final_line('/etc/password'))'''"
      ],
      "metadata": {
        "colab": {
          "base_uri": "https://localhost:8080/",
          "height": 70
        },
        "id": "D595XkrpWByT",
        "outputId": "28f14d20-c84f-4566-efc8-aa46753b9418"
      },
      "execution_count": 14,
      "outputs": [
        {
          "output_type": "execute_result",
          "data": {
            "text/plain": [
              "\"def get_final_line(filename):\\n  final_line = ''\\n  for current_line in open(filename):\\n    final_line = current_line\\n  return final_line\\n\\nprint(get_final_line('/etc/password'))\""
            ],
            "application/vnd.google.colaboratory.intrinsic+json": {
              "type": "string"
            }
          },
          "metadata": {},
          "execution_count": 14
        }
      ]
    },
    {
      "cell_type": "code",
      "source": [
        "x = 100\n",
        "\n",
        "def foo():\n",
        "  x = 200\n",
        "  print(x)\n",
        "\n",
        "print(x)\n",
        "foo()\n",
        "print(x)"
      ],
      "metadata": {
        "colab": {
          "base_uri": "https://localhost:8080/"
        },
        "id": "8UOHi6PKWaSH",
        "outputId": "08851914-be82-4489-92d2-4d20dc499eb0"
      },
      "execution_count": 15,
      "outputs": [
        {
          "output_type": "stream",
          "name": "stdout",
          "text": [
            "100\n",
            "200\n",
            "100\n"
          ]
        }
      ]
    },
    {
      "cell_type": "code",
      "source": [
        "def foo(x):\n",
        "  def bar(y):\n",
        "    return x * y\n",
        "  return bar\n",
        "\n",
        "f = foo(10)\n",
        "print(f(20))"
      ],
      "metadata": {
        "colab": {
          "base_uri": "https://localhost:8080/"
        },
        "id": "DOhGR0Z4W_F4",
        "outputId": "ce08b7fb-b342-49a9-d5f3-550a69cd4002"
      },
      "execution_count": 17,
      "outputs": [
        {
          "output_type": "stream",
          "name": "stdout",
          "text": [
            "200\n"
          ]
        }
      ]
    },
    {
      "cell_type": "code",
      "source": [
        "def foo():\n",
        "  call_counter = 0\n",
        "  def bar (y):\n",
        "    nonlocal call_counter\n",
        "    call_counter += 1\n",
        "    return (f'y = {y}, call_counter = {call_counter}')\n",
        "\n",
        "  return bar\n",
        "\n",
        "b = foo()\n",
        "for i in range(10,100,10):\n",
        "  print(b(i))"
      ],
      "metadata": {
        "colab": {
          "base_uri": "https://localhost:8080/"
        },
        "id": "mDzOtDOVXTZo",
        "outputId": "a696926c-2054-4854-8828-7e966ec90ade"
      },
      "execution_count": 18,
      "outputs": [
        {
          "output_type": "stream",
          "name": "stdout",
          "text": [
            "y = 10, call_counter = 1\n",
            "y = 20, call_counter = 2\n",
            "y = 30, call_counter = 3\n",
            "y = 40, call_counter = 4\n",
            "y = 50, call_counter = 5\n",
            "y = 60, call_counter = 6\n",
            "y = 70, call_counter = 7\n",
            "y = 80, call_counter = 8\n",
            "y = 90, call_counter = 9\n"
          ]
        }
      ]
    },
    {
      "cell_type": "code",
      "source": [],
      "metadata": {
        "id": "bZZD23HpYG-9"
      },
      "execution_count": null,
      "outputs": []
    }
  ]
}