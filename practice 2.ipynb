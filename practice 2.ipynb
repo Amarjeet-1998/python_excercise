{
  "nbformat": 4,
  "nbformat_minor": 0,
  "metadata": {
    "colab": {
      "name": "Untitled10.ipynb",
      "provenance": [],
      "authorship_tag": "ABX9TyP8Nss0DmBrmKCb9Us01rhU",
      "include_colab_link": true
    },
    "kernelspec": {
      "name": "python3",
      "display_name": "Python 3"
    },
    "language_info": {
      "name": "python"
    }
  },
  "cells": [
    {
      "cell_type": "markdown",
      "metadata": {
        "id": "view-in-github",
        "colab_type": "text"
      },
      "source": [
        "<a href=\"https://colab.research.google.com/github/Amarjeet-1998/python_excercise/blob/main/practice%202.ipynb\" target=\"_parent\"><img src=\"https://colab.research.google.com/assets/colab-badge.svg\" alt=\"Open In Colab\"/></a>"
      ]
    },
    {
      "cell_type": "code",
      "metadata": {
        "id": "Hx1-c9LJuhy4"
      },
      "source": [
        "from sympy import *"
      ],
      "execution_count": 19,
      "outputs": []
    },
    {
      "cell_type": "code",
      "metadata": {
        "colab": {
          "base_uri": "https://localhost:8080/",
          "height": 38
        },
        "id": "1O017WeauktD",
        "outputId": "cff2431e-7ce7-447f-add6-aac64262f5ed"
      },
      "source": [
        "pi"
      ],
      "execution_count": 6,
      "outputs": [
        {
          "output_type": "execute_result",
          "data": {
            "text/latex": "$\\displaystyle \\pi$",
            "text/plain": [
              "pi"
            ]
          },
          "metadata": {},
          "execution_count": 6
        }
      ]
    },
    {
      "cell_type": "code",
      "metadata": {
        "colab": {
          "base_uri": "https://localhost:8080/",
          "height": 57
        },
        "id": "1R9rHz9pvC-7",
        "outputId": "df111eaa-e2c9-4384-f17c-732266dab32a"
      },
      "source": [
        "N(pi,1000)"
      ],
      "execution_count": 7,
      "outputs": [
        {
          "output_type": "execute_result",
          "data": {
            "text/latex": "$\\displaystyle 3.141592653589793238462643383279502884197169399375105820974944592307816406286208998628034825342117067982148086513282306647093844609550582231725359408128481117450284102701938521105559644622948954930381964428810975665933446128475648233786783165271201909145648566923460348610454326648213393607260249141273724587006606315588174881520920962829254091715364367892590360011330530548820466521384146951941511609433057270365759591953092186117381932611793105118548074462379962749567351885752724891227938183011949129833673362440656643086021394946395224737190702179860943702770539217176293176752384674818467669405132000568127145263560827785771342757789609173637178721468440901224953430146549585371050792279689258923542019956112129021960864034418159813629774771309960518707211349999998372978049951059731732816096318595024459455346908302642522308253344685035261931188171010003137838752886587533208381420617177669147303598253490428755468731159562863882353787593751957781857780532171226806613001927876611195909216420199$",
            "text/plain": [
              "3.141592653589793238462643383279502884197169399375105820974944592307816406286208998628034825342117067982148086513282306647093844609550582231725359408128481117450284102701938521105559644622948954930381964428810975665933446128475648233786783165271201909145648566923460348610454326648213393607260249141273724587006606315588174881520920962829254091715364367892590360011330530548820466521384146951941511609433057270365759591953092186117381932611793105118548074462379962749567351885752724891227938183011949129833673362440656643086021394946395224737190702179860943702770539217176293176752384674818467669405132000568127145263560827785771342757789609173637178721468440901224953430146549585371050792279689258923542019956112129021960864034418159813629774771309960518707211349999998372978049951059731732816096318595024459455346908302642522308253344685035261931188171010003137838752886587533208381420617177669147303598253490428755468731159562863882353787593751957781857780532171226806613001927876611195909216420199"
            ]
          },
          "metadata": {},
          "execution_count": 7
        }
      ]
    },
    {
      "cell_type": "code",
      "metadata": {
        "id": "7kCb29buvNyL"
      },
      "source": [
        "## The N() function forces a numerical evaluation of its first argument, and an optional second argument specifies a number of decimal places. I will leave it to the reader to see how many of π's decimal places we can acquire in a finite time interval."
      ],
      "execution_count": 9,
      "outputs": []
    },
    {
      "cell_type": "code",
      "metadata": {
        "id": "lCZh6-31vVWu"
      },
      "source": [
        "## Euler's Identity\n",
        "\n",
        "## There is a famous equation by Euler, often quoted as an example of mathematical beauty, in which five important mathematical values appear. The equation (Euler's identity) is:\n",
        "\n",
        "##(1) eiπ+1=0\n",
        "## Where:\n",
        "\n",
        "##e = the base of natural logarithms, equal to limn→∞(1+1n)n.\n",
        "##i, the imaginary unit, equal to −1−−−√, i = \"imaginary\".\n",
        "##π, an irrational constant equal to the ratio of a circle's circumference and diameter.\n",
        "##1 = the multiplicative identity.\n",
        "##0 = the additive identity.\n",
        "##Let's see if sympy knowns about these constants and their relationship:"
      ],
      "execution_count": 10,
      "outputs": []
    },
    {
      "cell_type": "code",
      "metadata": {
        "colab": {
          "base_uri": "https://localhost:8080/",
          "height": 37
        },
        "id": "MdD4Tmfcvsc2",
        "outputId": "b187d06f-9236-465f-c646-3b3f327433a6"
      },
      "source": [
        "N(E,60)"
      ],
      "execution_count": 11,
      "outputs": [
        {
          "output_type": "execute_result",
          "data": {
            "text/latex": "$\\displaystyle 2.71828182845904523536028747135266249775724709369995957496697$",
            "text/plain": [
              "2.71828182845904523536028747135266249775724709369995957496697"
            ]
          },
          "metadata": {},
          "execution_count": 11
        }
      ]
    },
    {
      "cell_type": "code",
      "metadata": {
        "id": "FAEtTmx4wR5X"
      },
      "source": [
        ""
      ],
      "execution_count": null,
      "outputs": []
    },
    {
      "cell_type": "code",
      "metadata": {
        "id": "VZH-Ngurvw6b"
      },
      "source": [
        ""
      ],
      "execution_count": null,
      "outputs": []
    },
    {
      "cell_type": "code",
      "metadata": {
        "colab": {
          "base_uri": "https://localhost:8080/",
          "height": 37
        },
        "id": "iJFD9qz7v2tu",
        "outputId": "9aaf415c-8f01-4618-a7da-419e3351eb72"
      },
      "source": [
        "N(oo)"
      ],
      "execution_count": 14,
      "outputs": [
        {
          "output_type": "execute_result",
          "data": {
            "text/latex": "$\\displaystyle \\infty$",
            "text/plain": [
              "oo"
            ]
          },
          "metadata": {},
          "execution_count": 14
        }
      ]
    },
    {
      "cell_type": "code",
      "metadata": {
        "colab": {
          "base_uri": "https://localhost:8080/",
          "height": 405
        },
        "id": "3nCg-rj2wnWi",
        "outputId": "ee320c53-e568-46cb-abeb-2ce1ec350d34"
      },
      "source": [
        "import numpy as np\n",
        "from sympy import *\n",
        "import matplotlib.pyplot as plt\n",
        "%matplotlib inline\n",
        "x = symbols('x')\n",
        "f = lambda x: sqrt(1-x**2)\n",
        "fig = plt.gcf()\n",
        "fig.set_size_inches(12,6)\n",
        "xs = np.linspace(-1,1,200)\n",
        "ys = np.array([f(x) for x in xs],dtype='float')\n",
        "plt.grid(True)\n",
        "plt.xlabel('X')\n",
        "plt.ylabel('Y')\n",
        "plt.plot(xs,ys,color='#004000')"
      ],
      "execution_count": 21,
      "outputs": [
        {
          "output_type": "execute_result",
          "data": {
            "text/plain": [
              "[<matplotlib.lines.Line2D at 0x7f4861663110>]"
            ]
          },
          "metadata": {},
          "execution_count": 21
        },
        {
          "output_type": "display_data",
          "data": {
            "image/png": "[encoded data removed]",
            "text/plain": [
              "<Figure size 864x432 with 1 Axes>"
            ]
          },
          "metadata": {
            "needs_background": "light"
          }
        }
      ]
    },
    {
      "cell_type": "code",
      "metadata": {
        "colab": {
          "base_uri": "https://localhost:8080/",
          "height": 405
        },
        "id": "2k6nJSBUw2Dc",
        "outputId": "4d96ccdd-396e-4187-bcfd-84cacc1b54cc"
      },
      "source": [
        "import numpy as np\n",
        "from sympy import *\n",
        "import matplotlib.pyplot as plt\n",
        "%matplotlib inline\n",
        "x = symbols('x')\n",
        "f = lambda x: sqrt(1-x**2)\n",
        "fig = plt.gcf()\n",
        "fig.set_size_inches(12,6)\n",
        "xs = np.linspace(-1,1,200)\n",
        "ys = np.array([f(x) for x in xs],dtype='float')\n",
        "plt.grid(True)\n",
        "plt.xlabel('X')\n",
        "plt.ylabel('Y')\n",
        "plt.fill_between(xs,ys,0,color='#004000',alpha=0.2)"
      ],
      "execution_count": 22,
      "outputs": [
        {
          "output_type": "execute_result",
          "data": {
            "text/plain": [
              "<matplotlib.collections.PolyCollection at 0x7f4861663950>"
            ]
          },
          "metadata": {},
          "execution_count": 22
        },
        {
          "output_type": "display_data",
          "data": {
            "image/png": "[encoded data removed]",
            "text/plain": [
              "<Figure size 864x432 with 1 Axes>"
            ]
          },
          "metadata": {
            "needs_background": "light"
          }
        }
      ]
    },
    {
      "cell_type": "code",
      "metadata": {
        "colab": {
          "base_uri": "https://localhost:8080/",
          "height": 61
        },
        "id": "HKXkj2vOw-G3",
        "outputId": "b2009c3d-78e9-41a6-d8ca-b73f73fbbaaf"
      },
      "source": [
        "from sympy import *\n",
        "from IPython.display import *\n",
        "init_printing(use_latex=True)\n",
        "x = Symbol('x')\n",
        "f = lambda x: sqrt(1-x**2)\n",
        "fl = ['$f(x) =',latex(f(x)),'$']\n",
        "display(Latex(''.join(fl)))\n",
        "2 * integrate(f(x),(x,-1,1))"
      ],
      "execution_count": 24,
      "outputs": [
        {
          "output_type": "display_data",
          "data": {
            "text/latex": "$f(x) =\\sqrt{1 - x^{2}}$",
            "text/plain": [
              "<IPython.core.display.Latex object>"
            ]
          },
          "metadata": {}
        },
        {
          "output_type": "execute_result",
          "data": {
            "image/png": "[encoded data removed]",
            "text/latex": "$\\displaystyle \\pi$",
            "text/plain": [
              "π"
            ]
          },
          "metadata": {},
          "execution_count": 24
        }
      ]
    },
    {
      "cell_type": "code",
      "metadata": {
        "colab": {
          "base_uri": "https://localhost:8080/",
          "height": 226
        },
        "id": "pFg8ty_axDZq",
        "outputId": "6991a91b-3ad3-428e-8489-2e93e2a40834"
      },
      "source": [
        "from sympy import *\n",
        "from IPython.display import *\n",
        "init_printing(use_latex=True)\n",
        "# source: http://mathworld.wolfram.com/PopulationGrowth.html\n",
        "# problem: for a given multi-variable equation, generate all its forms\n",
        "# create symbols\n",
        "vl = (N,N_0,t,r) = symbols('N N_0 t r')\n",
        "# base equation\n",
        "b = log(N/N_0) - r*t\n",
        "def wrap_tag(t,d):\n",
        "   return '<%s style=\"border-color:white\">%s</%s>' % (t,d,t) \n",
        "desc = (\n",
        "  'Population at time t','Population at time zero',\n",
        "  'Time','Population growth rate'\n",
        ")\n",
        "s = 'Variables:'\n",
        "ss = ''\n",
        "for n,x in enumerate(vl):\n",
        "  ss += wrap_tag('td','&nbsp;')\n",
        "  ss += wrap_tag('td','$%s$' % str(x))\n",
        "  ss += wrap_tag('td',': %s' % desc[n])\n",
        "  ss = wrap_tag('tr',ss)\n",
        "s += wrap_tag('table',ss)\n",
        "s += 'Equations:'\n",
        "ss = ''\n",
        "for v in vl:\n",
        "  soln = solve(b,v)[0]\n",
        "  ss += wrap_tag('td','&nbsp;')\n",
        "  ss += wrap_tag('td','$%s$' % str(v))\n",
        "  ss += wrap_tag('td','$\\displaystyle = %s$' % latex(soln))\n",
        "  ss = wrap_tag('tr',ss)\n",
        "s += wrap_tag('table',ss)\n",
        "HTML(s)"
      ],
      "execution_count": 26,
      "outputs": [
        {
          "output_type": "execute_result",
          "data": {
            "text/html": [
              "Variables:<table style=\"border-color:white\"><tr style=\"border-color:white\"><tr style=\"border-color:white\"><tr style=\"border-color:white\"><tr style=\"border-color:white\"><td style=\"border-color:white\">&nbsp;</td><td style=\"border-color:white\">$N$</td><td style=\"border-color:white\">: Population at time t</td></tr><td style=\"border-color:white\">&nbsp;</td><td style=\"border-color:white\">$N_0$</td><td style=\"border-color:white\">: Population at time zero</td></tr><td style=\"border-color:white\">&nbsp;</td><td style=\"border-color:white\">$t$</td><td style=\"border-color:white\">: Time</td></tr><td style=\"border-color:white\">&nbsp;</td><td style=\"border-color:white\">$r$</td><td style=\"border-color:white\">: Population growth rate</td></tr></table>Equations:<table style=\"border-color:white\"><tr style=\"border-color:white\"><tr style=\"border-color:white\"><tr style=\"border-color:white\"><tr style=\"border-color:white\"><td style=\"border-color:white\">&nbsp;</td><td style=\"border-color:white\">$N$</td><td style=\"border-color:white\">$\\displaystyle = N_{0} e^{r t}$</td></tr><td style=\"border-color:white\">&nbsp;</td><td style=\"border-color:white\">$N_0$</td><td style=\"border-color:white\">$\\displaystyle = N e^{- r t}$</td></tr><td style=\"border-color:white\">&nbsp;</td><td style=\"border-color:white\">$t$</td><td style=\"border-color:white\">$\\displaystyle = \\frac{\\log{\\left(\\frac{N}{N_{0}} \\right)}}{r}$</td></tr><td style=\"border-color:white\">&nbsp;</td><td style=\"border-color:white\">$r$</td><td style=\"border-color:white\">$\\displaystyle = \\frac{\\log{\\left(\\frac{N}{N_{0}} \\right)}}{t}$</td></tr></table>"
            ],
            "text/plain": [
              "<IPython.core.display.HTML object>"
            ]
          },
          "metadata": {},
          "execution_count": 26
        }
      ]
    },
    {
      "cell_type": "code",
      "metadata": {
        "id": "_VcoVRHSxVf1"
      },
      "source": [
        ""
      ],
      "execution_count": null,
      "outputs": []
    }
  ]
}