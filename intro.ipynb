{
  "nbformat": 4,
  "nbformat_minor": 0,
  "metadata": {
    "colab": {
      "name": "intro.ipynb",
      "provenance": [],
      "collapsed_sections": [],
      "include_colab_link": true
    },
    "kernelspec": {
      "name": "python3",
      "display_name": "Python 3"
    },
    "language_info": {
      "name": "python"
    }
  },
  "cells": [
    {
      "cell_type": "markdown",
      "metadata": {
        "id": "view-in-github",
        "colab_type": "text"
      },
      "source": [
        "<a href=\"https://colab.research.google.com/github/Amarjeet-1998/python_excercise/blob/main/intro.ipynb\" target=\"_parent\"><img src=\"https://colab.research.google.com/assets/colab-badge.svg\" alt=\"Open In Colab\"/></a>"
      ]
    },
    {
      "cell_type": "code",
      "execution_count": 1,
      "metadata": {
        "colab": {
          "base_uri": "https://localhost:8080/"
        },
        "id": "vIAkg25cGCHH",
        "outputId": "15733e1a-31bb-4ae8-f602-46b0c26c0236"
      },
      "outputs": [
        {
          "output_type": "stream",
          "name": "stdout",
          "text": [
            "Hello world\n"
          ]
        }
      ],
      "source": [
        "print(\"Hello world\")"
      ]
    },
    {
      "cell_type": "markdown",
      "source": [
        "create a function in python"
      ],
      "metadata": {
        "id": "SKchpSsiEac6"
      }
    },
    {
      "cell_type": "code",
      "source": [
        "def demo(name, age):\n",
        "  print(name, age)\n",
        "\n",
        "  # call function\n",
        "  demo(\"Ben\", 25)"
      ],
      "metadata": {
        "id": "8I2daw1aHFx6"
      },
      "execution_count": 2,
      "outputs": []
    },
    {
      "cell_type": "code",
      "source": [
        "demo"
      ],
      "metadata": {
        "id": "_OSnN6GpELwS",
        "outputId": "a720c74b-892d-4ff0-f7e0-345c94a1c424",
        "colab": {
          "base_uri": "https://localhost:8080/"
        }
      },
      "execution_count": 3,
      "outputs": [
        {
          "output_type": "execute_result",
          "data": {
            "text/plain": [
              "<function __main__.demo(name, age)>"
            ]
          },
          "metadata": {},
          "execution_count": 3
        }
      ]
    },
    {
      "cell_type": "markdown",
      "source": [
        "2. create a function with variable length of arguments"
      ],
      "metadata": {
        "id": "pDi3F1c3Egm4"
      }
    },
    {
      "cell_type": "code",
      "source": [
        "def func1(*args):\n",
        "  for i in args:\n",
        "    print(i)"
      ],
      "metadata": {
        "id": "mCW0OkRdEU6_"
      },
      "execution_count": 4,
      "outputs": []
    },
    {
      "cell_type": "code",
      "source": [
        "func1(20,40,60)\n",
        "func1(80,100)"
      ],
      "metadata": {
        "id": "uXaJITfZEvLm",
        "outputId": "50049be0-94c3-4a89-c7fa-fd0334cee69c",
        "colab": {
          "base_uri": "https://localhost:8080/"
        }
      },
      "execution_count": 5,
      "outputs": [
        {
          "output_type": "stream",
          "name": "stdout",
          "text": [
            "20\n",
            "40\n",
            "60\n",
            "80\n",
            "100\n"
          ]
        }
      ]
    },
    {
      "cell_type": "markdown",
      "source": [
        "3. Return multiple values from a function"
      ],
      "metadata": {
        "id": "JQhEJa5JFB0J"
      }
    },
    {
      "cell_type": "code",
      "source": [
        "def calculation(a, b):\n",
        "  addition = a+ b\n",
        "  subtraction = a - b\n",
        "  #return multiple values separated by comma\n",
        "  return addition, subtraction\n",
        "\n",
        "# get result in tuple format\n",
        "res = calculation(40,10)\n",
        "print(res)"
      ],
      "metadata": {
        "id": "qBJpprOrE_i_",
        "outputId": "d35bb63c-113a-45b9-9620-33292e4a6921",
        "colab": {
          "base_uri": "https://localhost:8080/"
        }
      },
      "execution_count": 6,
      "outputs": [
        {
          "output_type": "stream",
          "name": "stdout",
          "text": [
            "(50, 30)\n"
          ]
        }
      ]
    },
    {
      "cell_type": "code",
      "source": [
        "def calculation(a, b):\n",
        "  return a + b, a - b\n",
        "  # get result in tuple format\n",
        "  # unpack tuple\n",
        "add, sub = calculation(40, 10)\n",
        "print(add, sub)"
      ],
      "metadata": {
        "id": "oUDXWhutFaod",
        "outputId": "3828ef73-520e-47d4-c10f-925f342b3d4d",
        "colab": {
          "base_uri": "https://localhost:8080/"
        }
      },
      "execution_count": 7,
      "outputs": [
        {
          "output_type": "stream",
          "name": "stdout",
          "text": [
            "50 30\n"
          ]
        }
      ]
    },
    {
      "cell_type": "markdown",
      "source": [
        "4. create a function with a default argument\n"
      ],
      "metadata": {
        "id": "REuETQVzG52M"
      }
    },
    {
      "cell_type": "code",
      "source": [
        "def show_employee(name, salary=9000):\n",
        "  print(\"Name:\", name, \"salary:\", salary)\n",
        "show_employee(\"Ben\", 12000)\n",
        "show_employee(\"Jessa\")"
      ],
      "metadata": {
        "id": "IUx7FQ3tGvRD",
        "outputId": "f5fdb9e0-f465-41f5-a129-3964b60bdd61",
        "colab": {
          "base_uri": "https://localhost:8080/"
        }
      },
      "execution_count": 8,
      "outputs": [
        {
          "output_type": "stream",
          "name": "stdout",
          "text": [
            "Name: Ben salary: 12000\n",
            "Name: Jessa salary: 9000\n"
          ]
        }
      ]
    },
    {
      "cell_type": "markdown",
      "source": [
        "5. create an inner function to calculate the addition in the following way"
      ],
      "metadata": {
        "id": "UaWP-RfUIBhp"
      }
    },
    {
      "cell_type": "code",
      "source": [
        "def outer_fun(a, b):\n",
        "  square = a ** 2\n",
        "\n",
        "  # inner function\n",
        "  def addition(a, b):\n",
        "    return a + b\n",
        "  \n",
        "\n",
        "  add = addition(a, b)\n",
        "  return add + 5\n",
        "\n",
        "result = outer_fun(5,10)\n",
        "print(result)"
      ],
      "metadata": {
        "id": "o7MvUMg0H3lb",
        "outputId": "7e635864-b67d-4059-c588-24fe1be5a663",
        "colab": {
          "base_uri": "https://localhost:8080/"
        }
      },
      "execution_count": 9,
      "outputs": [
        {
          "output_type": "stream",
          "name": "stdout",
          "text": [
            "20\n"
          ]
        }
      ]
    },
    {
      "cell_type": "markdown",
      "source": [
        "6. create a recursive function"
      ],
      "metadata": {
        "id": "MufXzYJaJFOQ"
      }
    },
    {
      "cell_type": "code",
      "source": [
        "def addition(num):\n",
        "  if num:\n",
        "    #call same function by reducing number by 1\n",
        "    return num + addition(num - 1)\n",
        "  else:\n",
        "    return 0\n",
        "\n",
        "\n",
        "res = addition(10)\n",
        "print(res)\n",
        "\n",
        "  "
      ],
      "metadata": {
        "id": "02D0-_RQIu26",
        "outputId": "5445ffa6-6384-4e4a-9e5e-8ef461c05982",
        "colab": {
          "base_uri": "https://localhost:8080/"
        }
      },
      "execution_count": 10,
      "outputs": [
        {
          "output_type": "stream",
          "name": "stdout",
          "text": [
            "55\n"
          ]
        }
      ]
    },
    {
      "cell_type": "markdown",
      "source": [
        "7. Assign a different name to function and call it through the new name"
      ],
      "metadata": {
        "id": "OpbrcfRjKFh3"
      }
    },
    {
      "cell_type": "code",
      "source": [
        "def display_student(name, age):\n",
        "  print(name, age)\n",
        "\n",
        "display_student(\"Emma\", 26)\n",
        "\n",
        "showstudent = display_student\n",
        "showstudent(\"Emma\", 26)"
      ],
      "metadata": {
        "id": "zKtQD5iIJjFY",
        "outputId": "90a9efc3-6262-487c-8ac8-c8127ef0ce16",
        "colab": {
          "base_uri": "https://localhost:8080/"
        }
      },
      "execution_count": 11,
      "outputs": [
        {
          "output_type": "stream",
          "name": "stdout",
          "text": [
            "Emma 26\n",
            "Emma 26\n"
          ]
        }
      ]
    },
    {
      "cell_type": "markdown",
      "source": [
        "8. Generate a python list of all the even numbers between 4 to 30"
      ],
      "metadata": {
        "id": "yHTHCWA3K42C"
      }
    },
    {
      "cell_type": "code",
      "source": [
        "print(list(range(4, 30, 2)))"
      ],
      "metadata": {
        "id": "ASLbrXBrKw8_",
        "outputId": "5dcab8cc-2de1-4682-c171-21e3644e307b",
        "colab": {
          "base_uri": "https://localhost:8080/"
        }
      },
      "execution_count": 12,
      "outputs": [
        {
          "output_type": "stream",
          "name": "stdout",
          "text": [
            "[4, 6, 8, 10, 12, 14, 16, 18, 20, 22, 24, 26, 28]\n"
          ]
        }
      ]
    },
    {
      "cell_type": "markdown",
      "source": [
        "9. Find the largest item from a given list"
      ],
      "metadata": {
        "id": "zWHbCoQlLhgH"
      }
    },
    {
      "cell_type": "code",
      "source": [
        "x = [4, 6, 8, 24, 12, 2]\n",
        "print(max(x))"
      ],
      "metadata": {
        "id": "U92iL5riLRCq",
        "outputId": "bba22b49-56b9-4950-beca-530cba2ca410",
        "colab": {
          "base_uri": "https://localhost:8080/"
        }
      },
      "execution_count": 13,
      "outputs": [
        {
          "output_type": "stream",
          "name": "stdout",
          "text": [
            "24\n"
          ]
        }
      ]
    },
    {
      "cell_type": "markdown",
      "source": [
        "1. create a string made of the first, middle and last character"
      ],
      "metadata": {
        "id": "3BALaFsrMGzn"
      }
    },
    {
      "cell_type": "code",
      "source": [
        "str1 = 'James'\n",
        "print(\"original string is\", str1)\n",
        "\n",
        "# get first character\n",
        "res = str1[0]\n",
        "\n",
        "# get string size\n",
        "l = len(str1)\n",
        "\n",
        "# Get middle index number\n",
        "mi = int(l/2)\n",
        "\n",
        "# Get middle character and add it to result\n",
        "res = res + str1[l - 1]\n",
        "\n",
        "print(\"New String:\", res)\n"
      ],
      "metadata": {
        "id": "XBx1Qsc4Lzvx",
        "outputId": "13240308-0789-41ed-c53b-f5c68e5926d1",
        "colab": {
          "base_uri": "https://localhost:8080/"
        }
      },
      "execution_count": 14,
      "outputs": [
        {
          "output_type": "stream",
          "name": "stdout",
          "text": [
            "original string is James\n",
            "New String: Js\n"
          ]
        }
      ]
    },
    {
      "cell_type": "markdown",
      "source": [
        "1. Create a string made of the middle three characters"
      ],
      "metadata": {
        "id": "GU9vN03dNRKT"
      }
    },
    {
      "cell_type": "code",
      "source": [
        "def get_middle_three_chars(str1):\n",
        "  print(\"original string is \", str1)\n",
        "\n",
        "# first get middle index number\n",
        "  mi = int(len(str1) / 2)\n",
        "\n",
        "# use string slicing to get result characters\n",
        "  res = str1[mi - 1:mi + 2]\n",
        "  print(\"Middle three chars are:\", res)\n",
        "\n",
        "get_middle_three_chars(\"JhoonDipPeta\")\n",
        "get_middle_three_chars(\"JaSonAy\")\n",
        "\n"
      ],
      "metadata": {
        "id": "6ZmdH5rMM8fq",
        "outputId": "e1037593-eff6-41a6-9560-6a8bbaaa4fe7",
        "colab": {
          "base_uri": "https://localhost:8080/"
        }
      },
      "execution_count": 15,
      "outputs": [
        {
          "output_type": "stream",
          "name": "stdout",
          "text": [
            "original string is  JhoonDipPeta\n",
            "Middle three chars are: Dip\n",
            "original string is  JaSonAy\n",
            "Middle three chars are: Son\n"
          ]
        }
      ]
    },
    {
      "cell_type": "markdown",
      "source": [
        "2. Append new string in the middle of a given string"
      ],
      "metadata": {
        "id": "oImBj8qcOkdU"
      }
    },
    {
      "cell_type": "code",
      "source": [
        "def append_middle(s1, s2):\n",
        "  print(\"Original strings are\", s1, s2)\n",
        "\n",
        "  #middle index number of s1\n",
        "  mi = int(len(s1)/ 2)\n",
        "\n",
        "  # get character from 0 to the middle index number from s1\n",
        "  x = s1[:mi:]\n",
        "  # concatenate s2 to it\n",
        "  x = x + s2\n",
        "  # append remaining character from s1\n",
        "  x = x + s1[mi:]\n",
        "\n",
        "  print(\"After appending new string in middle:\", x)\n",
        "\n",
        "append_middle(\"Adult\", \"Kelly\")\n",
        "\n"
      ],
      "metadata": {
        "id": "NkrpzY3EOgTi",
        "outputId": "91f890db-3667-44e3-a72b-6b4767de7840",
        "colab": {
          "base_uri": "https://localhost:8080/"
        }
      },
      "execution_count": 16,
      "outputs": [
        {
          "output_type": "stream",
          "name": "stdout",
          "text": [
            "Original strings are Adult Kelly\n",
            "After appending new string in middle: AdKellyult\n"
          ]
        }
      ]
    },
    {
      "cell_type": "markdown",
      "source": [
        "3. create a new string made of the first, middle and last characters of each input string"
      ],
      "metadata": {
        "id": "hjhC18TRQQVm"
      }
    },
    {
      "cell_type": "code",
      "source": [
        "def mix_string(s1, s2):\n",
        "    # get first character from both string\n",
        "    first_char = s1[0] + s2[0]\n",
        "\n",
        "    # get middle character from both string\n",
        "    middle_char = s1[int(len(s1) / 2):int(len(s1) / 2) + 1] + s2[int(len(s2) / 2):int(len(s2) / 2) + 1]\n",
        "\n",
        "    # get last character from both string\n",
        "    last_char = s1[len(s1) - 1] + s2[len(s2) - 1]\n",
        "\n",
        "    # add all\n",
        "    res = first_char + middle_char + last_char\n",
        "    print(\"Mix String is \", res)\n",
        "\n",
        "s1 = \"America\"\n",
        "s2 = \"Japan\"\n",
        "mix_string(s1, s2)\n"
      ],
      "metadata": {
        "id": "qTmlGR1qQGri",
        "outputId": "148e472f-cff6-4ca8-e790-e942521fe80a",
        "colab": {
          "base_uri": "https://localhost:8080/"
        }
      },
      "execution_count": 17,
      "outputs": [
        {
          "output_type": "stream",
          "name": "stdout",
          "text": [
            "Mix String is  AJrpan\n"
          ]
        }
      ]
    },
    {
      "cell_type": "code",
      "source": [],
      "metadata": {
        "id": "-YHgFXs7RXxn"
      },
      "execution_count": 17,
      "outputs": []
    }
  ]
}