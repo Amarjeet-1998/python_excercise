{
  "cells": [
    {
      "cell_type": "markdown",
      "metadata": {
        "id": "view-in-github",
        "colab_type": "text"
      },
      "source": [
        "<a href=\"https://colab.research.google.com/github/Amarjeet-1998/python_excercise/blob/main/python3rdclass.ipynb\" target=\"_parent\"><img src=\"https://colab.research.google.com/assets/colab-badge.svg\" alt=\"Open In Colab\"/></a>"
      ]
    },
    {
      "cell_type": "markdown",
      "metadata": {
        "id": "Hwx29K3vAIP5"
      },
      "source": [
        "## Set Theory"
      ]
    },
    {
      "cell_type": "code",
      "execution_count": 1,
      "metadata": {
        "ExecuteTime": {
          "end_time": "2021-12-19T06:22:12.475213Z",
          "start_time": "2021-12-19T06:22:12.464243Z"
        },
        "id": "s2oI0oCmAIP-"
      },
      "outputs": [],
      "source": [
        "## Union\n",
        "s1 = {1,2,3}\n",
        "s2 = {3,4,5}"
      ]
    },
    {
      "cell_type": "code",
      "execution_count": 2,
      "metadata": {
        "ExecuteTime": {
          "end_time": "2021-12-19T06:22:16.309623Z",
          "start_time": "2021-12-19T06:22:16.286682Z"
        },
        "colab": {
          "base_uri": "https://localhost:8080/"
        },
        "id": "QXf353FNAIQB",
        "outputId": "07260f69-ba28-4275-a481-5b498a00c2da"
      },
      "outputs": [
        {
          "output_type": "execute_result",
          "data": {
            "text/plain": [
              "{1, 2, 3, 4, 5}"
            ]
          },
          "metadata": {},
          "execution_count": 2
        }
      ],
      "source": [
        "s1 | s2"
      ]
    },
    {
      "cell_type": "code",
      "execution_count": 3,
      "metadata": {
        "ExecuteTime": {
          "end_time": "2021-12-19T06:22:17.443285Z",
          "start_time": "2021-12-19T06:22:17.435304Z"
        },
        "colab": {
          "base_uri": "https://localhost:8080/"
        },
        "id": "Bh7J_mTGAIQC",
        "outputId": "f7d6cadb-2db9-4668-f371-0f1d63c187c0"
      },
      "outputs": [
        {
          "output_type": "execute_result",
          "data": {
            "text/plain": [
              "{1, 2, 3, 4, 5}"
            ]
          },
          "metadata": {},
          "execution_count": 3
        }
      ],
      "source": [
        "s1.union(s2)"
      ]
    },
    {
      "cell_type": "code",
      "execution_count": 4,
      "metadata": {
        "ExecuteTime": {
          "end_time": "2021-12-19T06:22:18.219753Z",
          "start_time": "2021-12-19T06:22:18.212739Z"
        },
        "id": "a3n39946AIQD"
      },
      "outputs": [],
      "source": [
        "## Intersection\n",
        "s1 = {1,2,3}\n",
        "s2 = {3,4,5}"
      ]
    },
    {
      "cell_type": "code",
      "execution_count": 5,
      "metadata": {
        "ExecuteTime": {
          "end_time": "2021-12-19T06:22:18.956373Z",
          "start_time": "2021-12-19T06:22:18.938417Z"
        },
        "colab": {
          "base_uri": "https://localhost:8080/"
        },
        "id": "VBcwQanNAIQD",
        "outputId": "79c26d3c-9112-476c-a048-75584302dfc5"
      },
      "outputs": [
        {
          "output_type": "execute_result",
          "data": {
            "text/plain": [
              "{3}"
            ]
          },
          "metadata": {},
          "execution_count": 5
        }
      ],
      "source": [
        "s1 & s2"
      ]
    },
    {
      "cell_type": "code",
      "execution_count": 6,
      "metadata": {
        "ExecuteTime": {
          "end_time": "2021-12-19T06:22:19.668783Z",
          "start_time": "2021-12-19T06:22:19.661801Z"
        },
        "colab": {
          "base_uri": "https://localhost:8080/"
        },
        "id": "ZiDczBl8AIQE",
        "outputId": "dfb1bafc-77f3-4b5e-8ad2-58a5fb752ab7"
      },
      "outputs": [
        {
          "output_type": "execute_result",
          "data": {
            "text/plain": [
              "{3}"
            ]
          },
          "metadata": {},
          "execution_count": 6
        }
      ],
      "source": [
        "s1.intersection(s2)"
      ]
    },
    {
      "cell_type": "code",
      "execution_count": 7,
      "metadata": {
        "ExecuteTime": {
          "end_time": "2021-12-19T06:22:20.410800Z",
          "start_time": "2021-12-19T06:22:20.399829Z"
        },
        "id": "iM0Dsvf9AIQF"
      },
      "outputs": [],
      "source": [
        "## Difference\n",
        "s1 = {1,2,3,4,5,6}\n",
        "s2 = {5,6,7}"
      ]
    },
    {
      "cell_type": "code",
      "execution_count": 8,
      "metadata": {
        "ExecuteTime": {
          "end_time": "2021-12-19T06:22:21.174768Z",
          "start_time": "2021-12-19T06:22:21.155801Z"
        },
        "colab": {
          "base_uri": "https://localhost:8080/"
        },
        "id": "BgQhV2VZAIQF",
        "outputId": "dc469c3d-5a48-4af5-cdf9-68cd9610a2b4"
      },
      "outputs": [
        {
          "output_type": "execute_result",
          "data": {
            "text/plain": [
              "{1, 2, 3, 4}"
            ]
          },
          "metadata": {},
          "execution_count": 8
        }
      ],
      "source": [
        "s1-s2"
      ]
    },
    {
      "cell_type": "code",
      "execution_count": 9,
      "metadata": {
        "ExecuteTime": {
          "end_time": "2021-12-19T06:22:21.951837Z",
          "start_time": "2021-12-19T06:22:21.940871Z"
        },
        "colab": {
          "base_uri": "https://localhost:8080/"
        },
        "id": "gEOcIVRXAIQG",
        "outputId": "78b04723-cd49-4c1a-ae7f-7a91982fef98"
      },
      "outputs": [
        {
          "output_type": "execute_result",
          "data": {
            "text/plain": [
              "{1, 2, 3, 4}"
            ]
          },
          "metadata": {},
          "execution_count": 9
        }
      ],
      "source": [
        "s1.difference(s2)"
      ]
    },
    {
      "cell_type": "code",
      "execution_count": 10,
      "metadata": {
        "ExecuteTime": {
          "end_time": "2021-12-19T06:22:22.571858Z",
          "start_time": "2021-12-19T06:22:22.555909Z"
        },
        "colab": {
          "base_uri": "https://localhost:8080/"
        },
        "id": "5VFn96cFAIQG",
        "outputId": "a5e3addb-c4ab-4a27-8272-fe4852d71488"
      },
      "outputs": [
        {
          "output_type": "execute_result",
          "data": {
            "text/plain": [
              "{7}"
            ]
          },
          "metadata": {},
          "execution_count": 10
        }
      ],
      "source": [
        "s2-s1"
      ]
    },
    {
      "cell_type": "code",
      "execution_count": 11,
      "metadata": {
        "ExecuteTime": {
          "end_time": "2021-12-19T06:22:24.480946Z",
          "start_time": "2021-12-19T06:22:24.464956Z"
        },
        "id": "2ABzWa_bAIQH"
      },
      "outputs": [],
      "source": [
        "## Symmetric difference\n",
        "s1={1,2,3,4,5}\n",
        "s2={4,5,6,7,8}"
      ]
    },
    {
      "cell_type": "code",
      "execution_count": 12,
      "metadata": {
        "ExecuteTime": {
          "end_time": "2021-12-19T06:22:25.280437Z",
          "start_time": "2021-12-19T06:22:25.256514Z"
        },
        "colab": {
          "base_uri": "https://localhost:8080/"
        },
        "id": "-eR1TMtiAIQH",
        "outputId": "3de92668-e296-465b-dc96-6e707db0f8fc"
      },
      "outputs": [
        {
          "output_type": "execute_result",
          "data": {
            "text/plain": [
              "{1, 2, 3, 6, 7, 8}"
            ]
          },
          "metadata": {},
          "execution_count": 12
        }
      ],
      "source": [
        "s1.symmetric_difference(s2)"
      ]
    },
    {
      "cell_type": "code",
      "execution_count": 13,
      "metadata": {
        "ExecuteTime": {
          "end_time": "2021-12-19T06:22:26.006523Z",
          "start_time": "2021-12-19T06:22:25.986572Z"
        },
        "id": "HP_iFj0dAIQI"
      },
      "outputs": [],
      "source": [
        "s1 = {1,2,3,4,5}\n",
        "s2 = {1,2,3}"
      ]
    },
    {
      "cell_type": "code",
      "execution_count": 14,
      "metadata": {
        "ExecuteTime": {
          "end_time": "2021-12-19T06:22:26.730478Z",
          "start_time": "2021-12-19T06:22:26.722500Z"
        },
        "colab": {
          "base_uri": "https://localhost:8080/"
        },
        "id": "qKq2jBTXAIQI",
        "outputId": "2b352e20-9e3f-4075-d9fa-ce94280ac12d"
      },
      "outputs": [
        {
          "output_type": "execute_result",
          "data": {
            "text/plain": [
              "True"
            ]
          },
          "metadata": {},
          "execution_count": 14
        }
      ],
      "source": [
        "s2.issubset(s1)"
      ]
    },
    {
      "cell_type": "markdown",
      "metadata": {
        "id": "gfezX_CNAIQJ"
      },
      "source": [
        "## Regular expressions"
      ]
    },
    {
      "cell_type": "code",
      "execution_count": 15,
      "metadata": {
        "ExecuteTime": {
          "end_time": "2021-12-19T06:22:29.069281Z",
          "start_time": "2021-12-19T06:22:29.056311Z"
        },
        "id": "Z5Yq5A8zAIQJ"
      },
      "outputs": [],
      "source": [
        "import re"
      ]
    },
    {
      "cell_type": "code",
      "execution_count": 16,
      "metadata": {
        "ExecuteTime": {
          "end_time": "2021-12-19T06:45:32.151446Z",
          "start_time": "2021-12-19T06:45:32.134457Z"
        },
        "id": "2tuOU4XPAIQK"
      },
      "outputs": [],
      "source": [
        "str1 = \"Welcome to python session\""
      ]
    },
    {
      "cell_type": "code",
      "execution_count": 17,
      "metadata": {
        "ExecuteTime": {
          "end_time": "2021-12-19T06:45:33.000965Z",
          "start_time": "2021-12-19T06:45:32.991006Z"
        },
        "colab": {
          "base_uri": "https://localhost:8080/"
        },
        "id": "-eiMdKHdAIQK",
        "outputId": "0afbfe9b-8489-40b7-f0c5-c2116379cb78"
      },
      "outputs": [
        {
          "output_type": "execute_result",
          "data": {
            "text/plain": [
              "['e', 'e', 'e']"
            ]
          },
          "metadata": {},
          "execution_count": 17
        }
      ],
      "source": [
        "# Findall is used to return the no.of occurance of matched string in the given string\n",
        "x = re.findall('e',str1)\n",
        "x"
      ]
    },
    {
      "cell_type": "code",
      "execution_count": 18,
      "metadata": {
        "ExecuteTime": {
          "end_time": "2021-12-19T06:45:33.658274Z",
          "start_time": "2021-12-19T06:45:33.650297Z"
        },
        "colab": {
          "base_uri": "https://localhost:8080/"
        },
        "id": "dap6V-UyAIQL",
        "outputId": "101cddb2-de52-49fa-c4dd-32bf4d970063"
      },
      "outputs": [
        {
          "output_type": "execute_result",
          "data": {
            "text/plain": [
              "['Welcome']"
            ]
          },
          "metadata": {},
          "execution_count": 18
        }
      ],
      "source": [
        "y=re.findall('Welcome',str1)\n",
        "y"
      ]
    },
    {
      "cell_type": "code",
      "execution_count": 19,
      "metadata": {
        "ExecuteTime": {
          "end_time": "2021-12-19T06:46:00.554201Z",
          "start_time": "2021-12-19T06:46:00.543230Z"
        },
        "colab": {
          "base_uri": "https://localhost:8080/"
        },
        "id": "aHfNhmKaAIQM",
        "outputId": "9445f0a6-e947-40ab-a6a5-776cf79cdcfc"
      },
      "outputs": [
        {
          "output_type": "execute_result",
          "data": {
            "text/plain": [
              "[]"
            ]
          },
          "metadata": {},
          "execution_count": 19
        }
      ],
      "source": [
        "y=re.findall('abc',str1)\n",
        "y"
      ]
    },
    {
      "cell_type": "code",
      "execution_count": 20,
      "metadata": {
        "ExecuteTime": {
          "end_time": "2021-12-19T06:45:35.107551Z",
          "start_time": "2021-12-19T06:45:35.087603Z"
        },
        "colab": {
          "base_uri": "https://localhost:8080/"
        },
        "id": "JOaDuwJ2AIQM",
        "outputId": "d6a84556-1750-4a10-df74-379a043d4f7e"
      },
      "outputs": [
        {
          "output_type": "execute_result",
          "data": {
            "text/plain": [
              "<re.Match object; span=(1, 2), match='e'>"
            ]
          },
          "metadata": {},
          "execution_count": 20
        }
      ],
      "source": [
        "# Search() method is used to display the matched string\n",
        "x=re.search('e',str1)\n",
        "x"
      ]
    },
    {
      "cell_type": "code",
      "execution_count": 21,
      "metadata": {
        "ExecuteTime": {
          "end_time": "2021-12-19T06:45:36.050214Z",
          "start_time": "2021-12-19T06:45:36.030234Z"
        },
        "colab": {
          "base_uri": "https://localhost:8080/"
        },
        "id": "pUm7igDRAIQN",
        "outputId": "dcb38750-f9e0-47f8-b102-0943f251e4e9"
      },
      "outputs": [
        {
          "output_type": "execute_result",
          "data": {
            "text/plain": [
              "<re.Match object; span=(11, 17), match='python'>"
            ]
          },
          "metadata": {},
          "execution_count": 21
        }
      ],
      "source": [
        "x=re.search('python',str1)\n",
        "x"
      ]
    },
    {
      "cell_type": "code",
      "execution_count": 22,
      "metadata": {
        "ExecuteTime": {
          "end_time": "2021-12-19T06:45:38.115475Z",
          "start_time": "2021-12-19T06:45:38.097523Z"
        },
        "id": "aKxWqAo0AIQO"
      },
      "outputs": [],
      "source": [
        "x=re.search(\"abc\",str1)\n",
        "x"
      ]
    },
    {
      "cell_type": "code",
      "execution_count": 23,
      "metadata": {
        "ExecuteTime": {
          "end_time": "2021-12-19T06:45:43.669463Z",
          "start_time": "2021-12-19T06:45:43.657497Z"
        },
        "id": "SxFkRfS9AIQP"
      },
      "outputs": [],
      "source": [
        "str1='Hello world'"
      ]
    },
    {
      "cell_type": "code",
      "execution_count": 24,
      "metadata": {
        "ExecuteTime": {
          "end_time": "2021-12-19T06:46:03.132328Z",
          "start_time": "2021-12-19T06:46:03.118330Z"
        },
        "colab": {
          "base_uri": "https://localhost:8080/"
        },
        "id": "JPRCf44SAIQP",
        "outputId": "ff0fa38d-a4fa-416e-9d1f-5f7592e95285"
      },
      "outputs": [
        {
          "output_type": "execute_result",
          "data": {
            "text/plain": [
              "['Hello', 'world']"
            ]
          },
          "metadata": {},
          "execution_count": 24
        }
      ],
      "source": [
        "z=re.split(\" \",str1)\n",
        "z"
      ]
    },
    {
      "cell_type": "code",
      "execution_count": 25,
      "metadata": {
        "ExecuteTime": {
          "end_time": "2021-12-19T06:46:03.972078Z",
          "start_time": "2021-12-19T06:46:03.960074Z"
        },
        "colab": {
          "base_uri": "https://localhost:8080/"
        },
        "id": "NOiXDZ9lAIQQ",
        "outputId": "2fe34681-c415-42ba-84f3-fad6454308d5"
      },
      "outputs": [
        {
          "output_type": "execute_result",
          "data": {
            "text/plain": [
              "['', 'H', 'e', 'l', 'l', 'o', ' ', 'w', 'o', 'r', 'l', 'd', '']"
            ]
          },
          "metadata": {},
          "execution_count": 25
        }
      ],
      "source": [
        "z=re.split(\"\",str1)\n",
        "z"
      ]
    },
    {
      "cell_type": "code",
      "execution_count": 26,
      "metadata": {
        "ExecuteTime": {
          "end_time": "2021-12-19T06:46:04.745409Z",
          "start_time": "2021-12-19T06:46:04.733450Z"
        },
        "id": "U6XluwPwAIQQ"
      },
      "outputs": [],
      "source": [
        "str2='Hi Python Hello Analytics'"
      ]
    },
    {
      "cell_type": "code",
      "execution_count": 27,
      "metadata": {
        "ExecuteTime": {
          "end_time": "2021-12-19T06:46:05.553160Z",
          "start_time": "2021-12-19T06:46:05.541193Z"
        },
        "id": "4zjypECkAIQQ"
      },
      "outputs": [],
      "source": [
        "x=re.sub('Python','Analytics',str2)"
      ]
    },
    {
      "cell_type": "code",
      "execution_count": 28,
      "metadata": {
        "ExecuteTime": {
          "end_time": "2021-12-19T06:46:06.330216Z",
          "start_time": "2021-12-19T06:46:06.315221Z"
        },
        "colab": {
          "base_uri": "https://localhost:8080/",
          "height": 35
        },
        "id": "x59agATiAIQR",
        "outputId": "09aa7af5-594a-4d97-a3c0-4634929ddf3a"
      },
      "outputs": [
        {
          "output_type": "execute_result",
          "data": {
            "application/vnd.google.colaboratory.intrinsic+json": {
              "type": "string"
            },
            "text/plain": [
              "'Hi Analytics Hello Analytics'"
            ]
          },
          "metadata": {},
          "execution_count": 28
        }
      ],
      "source": [
        "x"
      ]
    },
    {
      "cell_type": "code",
      "execution_count": 29,
      "metadata": {
        "ExecuteTime": {
          "end_time": "2021-12-19T06:46:07.302265Z",
          "start_time": "2021-12-19T06:46:07.286308Z"
        },
        "colab": {
          "base_uri": "https://localhost:8080/"
        },
        "id": "mmuZbVgpAIQR",
        "outputId": "c494b003-c74e-484b-e9a8-05fd0f9774c5"
      },
      "outputs": [
        {
          "output_type": "execute_result",
          "data": {
            "text/plain": [
              "<re.Match object; span=(0, 2), match='Hi'>"
            ]
          },
          "metadata": {},
          "execution_count": 29
        }
      ],
      "source": [
        "x=re.match('Hi',str2)\n",
        "x"
      ]
    },
    {
      "cell_type": "code",
      "execution_count": 30,
      "metadata": {
        "ExecuteTime": {
          "end_time": "2021-12-19T06:46:08.089381Z",
          "start_time": "2021-12-19T06:46:08.081402Z"
        },
        "id": "5ZSYjTI4AIQR"
      },
      "outputs": [],
      "source": [
        "x=re.match(\"Hello\",str2)\n",
        "x"
      ]
    },
    {
      "cell_type": "markdown",
      "metadata": {
        "id": "mehLtpMeAIQR"
      },
      "source": [
        "## Assigning values"
      ]
    },
    {
      "cell_type": "code",
      "execution_count": 31,
      "metadata": {
        "ExecuteTime": {
          "end_time": "2021-12-19T06:46:09.972020Z",
          "start_time": "2021-12-19T06:46:09.953036Z"
        },
        "colab": {
          "base_uri": "https://localhost:8080/"
        },
        "id": "ATxS_81aAIQS",
        "outputId": "4af871d0-262e-47cc-f76c-4b53b2908cb1"
      },
      "outputs": [
        {
          "output_type": "execute_result",
          "data": {
            "text/plain": [
              "(1, 'xyz', 5.5)"
            ]
          },
          "metadata": {},
          "execution_count": 31
        }
      ],
      "source": [
        "# '=' is used for assignment\n",
        "a,b,c = 1,'xyz',5.5\n",
        "a,b,c"
      ]
    },
    {
      "cell_type": "code",
      "execution_count": 32,
      "metadata": {
        "ExecuteTime": {
          "end_time": "2021-12-19T06:46:10.765835Z",
          "start_time": "2021-12-19T06:46:10.758855Z"
        },
        "colab": {
          "base_uri": "https://localhost:8080/",
          "height": 35
        },
        "id": "VyEwcObcAIQS",
        "outputId": "61846162-33fb-4100-a4d9-73da62ac1ef1"
      },
      "outputs": [
        {
          "output_type": "execute_result",
          "data": {
            "application/vnd.google.colaboratory.intrinsic+json": {
              "type": "string"
            },
            "text/plain": [
              "'This is a single line string'"
            ]
          },
          "metadata": {},
          "execution_count": 32
        }
      ],
      "source": [
        "## Multiple strings\n",
        "a_str = 'This is a single line string'\n",
        "a_str"
      ]
    },
    {
      "cell_type": "code",
      "execution_count": 33,
      "metadata": {
        "ExecuteTime": {
          "end_time": "2021-12-19T06:46:11.808724Z",
          "start_time": "2021-12-19T06:46:11.797717Z"
        },
        "colab": {
          "base_uri": "https://localhost:8080/",
          "height": 35
        },
        "id": "LicXRuC-AIQS",
        "outputId": "36bba8f4-45f3-44fe-db93-b71d00b7f84a"
      },
      "outputs": [
        {
          "output_type": "execute_result",
          "data": {
            "application/vnd.google.colaboratory.intrinsic+json": {
              "type": "string"
            },
            "text/plain": [
              "'This is\\na multiline\\nstring'"
            ]
          },
          "metadata": {},
          "execution_count": 33
        }
      ],
      "source": [
        "a_str1 = '''This is\n",
        "a multiline\n",
        "string'''\n",
        "a_str1"
      ]
    },
    {
      "cell_type": "code",
      "execution_count": 34,
      "metadata": {
        "ExecuteTime": {
          "end_time": "2021-12-19T06:46:23.787074Z",
          "start_time": "2021-12-19T06:46:23.770121Z"
        },
        "colab": {
          "base_uri": "https://localhost:8080/"
        },
        "id": "RC3ydba5AIQT",
        "outputId": "a7f97d88-c70e-44d7-a938-b49201891c44"
      },
      "outputs": [
        {
          "output_type": "stream",
          "name": "stdout",
          "text": [
            "This is\n",
            "a multiline\n",
            "string\n"
          ]
        }
      ],
      "source": [
        "print(a_str1)"
      ]
    },
    {
      "cell_type": "markdown",
      "metadata": {
        "id": "g69dVdMxAIQT"
      },
      "source": [
        "## Getting input from users"
      ]
    },
    {
      "cell_type": "code",
      "execution_count": 35,
      "metadata": {
        "ExecuteTime": {
          "end_time": "2021-12-19T06:47:05.818557Z",
          "start_time": "2021-12-19T06:46:56.592860Z"
        },
        "colab": {
          "base_uri": "https://localhost:8080/",
          "height": 53
        },
        "id": "XrCWKtTEAIQU",
        "outputId": "b4bc723c-820c-4c6d-bdbc-b1a7f50ff0f2"
      },
      "outputs": [
        {
          "name": "stdout",
          "output_type": "stream",
          "text": [
            "Enter your name:43\n"
          ]
        },
        {
          "output_type": "execute_result",
          "data": {
            "application/vnd.google.colaboratory.intrinsic+json": {
              "type": "string"
            },
            "text/plain": [
              "'43'"
            ]
          },
          "metadata": {},
          "execution_count": 35
        }
      ],
      "source": [
        "name = input('Enter your name:')\n",
        "name"
      ]
    },
    {
      "cell_type": "code",
      "execution_count": 36,
      "metadata": {
        "ExecuteTime": {
          "end_time": "2021-12-19T06:47:19.148003Z",
          "start_time": "2021-12-19T06:47:15.616545Z"
        },
        "colab": {
          "base_uri": "https://localhost:8080/",
          "height": 53
        },
        "id": "J1azR7faAIQU",
        "outputId": "2a32ab15-5ac3-40fb-9cd8-1a31b2a92ef0"
      },
      "outputs": [
        {
          "name": "stdout",
          "output_type": "stream",
          "text": [
            "Enter your age:23\n"
          ]
        },
        {
          "output_type": "execute_result",
          "data": {
            "application/vnd.google.colaboratory.intrinsic+json": {
              "type": "string"
            },
            "text/plain": [
              "'23'"
            ]
          },
          "metadata": {},
          "execution_count": 36
        }
      ],
      "source": [
        "age = input('Enter your age:')\n",
        "age"
      ]
    },
    {
      "cell_type": "code",
      "execution_count": 37,
      "metadata": {
        "ExecuteTime": {
          "end_time": "2021-12-19T06:47:29.428219Z",
          "start_time": "2021-12-19T06:47:22.334772Z"
        },
        "colab": {
          "base_uri": "https://localhost:8080/"
        },
        "id": "KLJv9cTSAIQU",
        "outputId": "be78141d-b9fa-4e20-997f-59e96617a5cf"
      },
      "outputs": [
        {
          "name": "stdout",
          "output_type": "stream",
          "text": [
            "Enter your age:45\n"
          ]
        },
        {
          "output_type": "execute_result",
          "data": {
            "text/plain": [
              "45"
            ]
          },
          "metadata": {},
          "execution_count": 37
        }
      ],
      "source": [
        "age = int(input('Enter your age:'))\n",
        "age"
      ]
    },
    {
      "cell_type": "code",
      "execution_count": 38,
      "metadata": {
        "ExecuteTime": {
          "end_time": "2021-12-19T06:47:32.010237Z",
          "start_time": "2021-12-19T06:47:31.998304Z"
        },
        "colab": {
          "base_uri": "https://localhost:8080/"
        },
        "id": "155trPzoAIQV",
        "outputId": "a4ecc385-1bed-49a3-8ffd-06323ebc9b96"
      },
      "outputs": [
        {
          "output_type": "execute_result",
          "data": {
            "text/plain": [
              "int"
            ]
          },
          "metadata": {},
          "execution_count": 38
        }
      ],
      "source": [
        "type(age)"
      ]
    },
    {
      "cell_type": "markdown",
      "metadata": {
        "id": "K5Qpz1NxAIQY"
      },
      "source": [
        "## Print statement in python"
      ]
    },
    {
      "cell_type": "code",
      "execution_count": 39,
      "metadata": {
        "ExecuteTime": {
          "end_time": "2021-12-19T07:16:22.062366Z",
          "start_time": "2021-12-19T07:16:22.048401Z"
        },
        "colab": {
          "base_uri": "https://localhost:8080/"
        },
        "id": "qgnjzO70AIQZ",
        "outputId": "42fe6cdf-6af2-4cc0-a18a-4477e1e166b5"
      },
      "outputs": [
        {
          "output_type": "stream",
          "name": "stdout",
          "text": [
            "Hello world\n"
          ]
        }
      ],
      "source": [
        "print('Hello world')"
      ]
    },
    {
      "cell_type": "code",
      "execution_count": 40,
      "metadata": {
        "ExecuteTime": {
          "end_time": "2021-12-19T07:16:34.864010Z",
          "start_time": "2021-12-19T07:16:24.350683Z"
        },
        "colab": {
          "base_uri": "https://localhost:8080/",
          "height": 53
        },
        "id": "W9zRrAYLAIQZ",
        "outputId": "966ded74-7c9a-43a2-a012-836d161e2ede"
      },
      "outputs": [
        {
          "name": "stdout",
          "output_type": "stream",
          "text": [
            "Enter your name:amar\n"
          ]
        },
        {
          "output_type": "execute_result",
          "data": {
            "application/vnd.google.colaboratory.intrinsic+json": {
              "type": "string"
            },
            "text/plain": [
              "'amar'"
            ]
          },
          "metadata": {},
          "execution_count": 40
        }
      ],
      "source": [
        "name1 = input('Enter your name:')\n",
        "name1"
      ]
    },
    {
      "cell_type": "code",
      "execution_count": 41,
      "metadata": {
        "ExecuteTime": {
          "end_time": "2021-12-19T07:16:36.758952Z",
          "start_time": "2021-12-19T07:16:36.752969Z"
        },
        "colab": {
          "base_uri": "https://localhost:8080/"
        },
        "id": "wZ4boaIiAIQZ",
        "outputId": "96db92ee-cdd6-4729-c5d3-eb8020777c61"
      },
      "outputs": [
        {
          "output_type": "stream",
          "name": "stdout",
          "text": [
            "Hello amar\n"
          ]
        }
      ],
      "source": [
        "print('Hello',name1)"
      ]
    },
    {
      "cell_type": "code",
      "execution_count": 42,
      "metadata": {
        "ExecuteTime": {
          "end_time": "2021-12-19T07:16:40.015912Z",
          "start_time": "2021-12-19T07:16:40.008930Z"
        },
        "colab": {
          "base_uri": "https://localhost:8080/"
        },
        "id": "oHt3jUoVAIQZ",
        "outputId": "430516e4-bf8c-49ec-f18f-c38d64d987f4"
      },
      "outputs": [
        {
          "output_type": "stream",
          "name": "stdout",
          "text": [
            "43 is 45 years old\n"
          ]
        }
      ],
      "source": [
        "print(name,'is',age,'years old')"
      ]
    },
    {
      "cell_type": "code",
      "execution_count": 43,
      "metadata": {
        "ExecuteTime": {
          "end_time": "2021-12-19T07:17:24.860837Z",
          "start_time": "2021-12-19T07:17:24.837906Z"
        },
        "colab": {
          "base_uri": "https://localhost:8080/"
        },
        "id": "zoJEy_wMAIQa",
        "outputId": "e760bb7d-2a92-448f-f39f-acc89efb9d87"
      },
      "outputs": [
        {
          "output_type": "stream",
          "name": "stdout",
          "text": [
            "amar is 45 years old\n"
          ]
        }
      ],
      "source": [
        "## Starndard way of using print statement\n",
        "print('{0} is {1} years old'.format(name1,age)) "
      ]
    },
    {
      "cell_type": "code",
      "execution_count": 44,
      "metadata": {
        "ExecuteTime": {
          "end_time": "2021-12-19T07:16:56.621041Z",
          "start_time": "2021-12-19T07:16:56.603079Z"
        },
        "colab": {
          "base_uri": "https://localhost:8080/"
        },
        "id": "P0uRFl0WAIQa",
        "outputId": "583d1596-c3c5-4891-ade5-e7daa085b653"
      },
      "outputs": [
        {
          "output_type": "stream",
          "name": "stdout",
          "text": [
            "43 is 45 years old\n"
          ]
        }
      ],
      "source": [
        "print(f'{name} is {age} years old') # f-string method"
      ]
    },
    {
      "cell_type": "markdown",
      "metadata": {
        "id": "UhzPN1V8AIQa"
      },
      "source": [
        "## Identity Operators"
      ]
    },
    {
      "cell_type": "code",
      "execution_count": 45,
      "metadata": {
        "ExecuteTime": {
          "end_time": "2021-12-19T07:17:32.222859Z",
          "start_time": "2021-12-19T07:17:32.202911Z"
        },
        "colab": {
          "base_uri": "https://localhost:8080/"
        },
        "id": "17RUI4KNAIQb",
        "outputId": "09fb0732-1cc3-4522-cd7f-3c0a91ffcd1a"
      },
      "outputs": [
        {
          "output_type": "execute_result",
          "data": {
            "text/plain": [
              "False"
            ]
          },
          "metadata": {},
          "execution_count": 45
        }
      ],
      "source": [
        "\"i\" == \"Hi\""
      ]
    },
    {
      "cell_type": "code",
      "execution_count": 46,
      "metadata": {
        "ExecuteTime": {
          "end_time": "2021-12-19T07:17:33.371812Z",
          "start_time": "2021-12-19T07:17:33.360840Z"
        },
        "colab": {
          "base_uri": "https://localhost:8080/"
        },
        "id": "rndPByW2AIQb",
        "outputId": "d7d32cf6-e8b3-4fea-96a3-054d7d4825da"
      },
      "outputs": [
        {
          "output_type": "execute_result",
          "data": {
            "text/plain": [
              "True"
            ]
          },
          "metadata": {},
          "execution_count": 46
        }
      ],
      "source": [
        "1 == 1"
      ]
    },
    {
      "cell_type": "code",
      "execution_count": 47,
      "metadata": {
        "ExecuteTime": {
          "end_time": "2021-12-19T07:17:34.143879Z",
          "start_time": "2021-12-19T07:17:34.135899Z"
        },
        "colab": {
          "base_uri": "https://localhost:8080/"
        },
        "id": "-4dP2VZXAIQb",
        "outputId": "7ad67ed0-1c87-479d-a541-7021d590f8f6"
      },
      "outputs": [
        {
          "output_type": "execute_result",
          "data": {
            "text/plain": [
              "False"
            ]
          },
          "metadata": {},
          "execution_count": 47
        }
      ],
      "source": [
        "2 == 1"
      ]
    },
    {
      "cell_type": "code",
      "execution_count": 48,
      "metadata": {
        "ExecuteTime": {
          "end_time": "2021-12-19T07:17:34.910286Z",
          "start_time": "2021-12-19T07:17:34.898286Z"
        },
        "colab": {
          "base_uri": "https://localhost:8080/"
        },
        "id": "lpafKVGkAIQb",
        "outputId": "0494a226-faf8-4f8c-e582-0b57bb1bc407"
      },
      "outputs": [
        {
          "output_type": "execute_result",
          "data": {
            "text/plain": [
              "False"
            ]
          },
          "metadata": {},
          "execution_count": 48
        }
      ],
      "source": [
        "\"hello\" == \"Hello\""
      ]
    },
    {
      "cell_type": "code",
      "execution_count": 49,
      "metadata": {
        "ExecuteTime": {
          "end_time": "2021-12-19T07:17:35.793411Z",
          "start_time": "2021-12-19T07:17:35.783438Z"
        },
        "colab": {
          "base_uri": "https://localhost:8080/"
        },
        "id": "sbjXtyMIAIQc",
        "outputId": "9bda6789-694c-4970-84d9-9c05ac2f054c"
      },
      "outputs": [
        {
          "output_type": "execute_result",
          "data": {
            "text/plain": [
              "False"
            ]
          },
          "metadata": {},
          "execution_count": 49
        }
      ],
      "source": [
        "1 == 0"
      ]
    },
    {
      "cell_type": "code",
      "execution_count": 50,
      "metadata": {
        "ExecuteTime": {
          "end_time": "2021-12-19T07:17:36.637422Z",
          "start_time": "2021-12-19T07:17:36.630440Z"
        },
        "colab": {
          "base_uri": "https://localhost:8080/"
        },
        "id": "M9en8N5XAIQc",
        "outputId": "ad84acc7-0d8a-460e-a9aa-dccd14be29e2"
      },
      "outputs": [
        {
          "output_type": "execute_result",
          "data": {
            "text/plain": [
              "True"
            ]
          },
          "metadata": {},
          "execution_count": 50
        }
      ],
      "source": [
        "1 != 0"
      ]
    },
    {
      "cell_type": "code",
      "execution_count": 51,
      "metadata": {
        "ExecuteTime": {
          "end_time": "2021-12-19T07:17:37.526906Z",
          "start_time": "2021-12-19T07:17:37.517930Z"
        },
        "colab": {
          "base_uri": "https://localhost:8080/"
        },
        "id": "v3glfuH2AIQc",
        "outputId": "71739033-38be-4449-e9a2-9208efeccb2c"
      },
      "outputs": [
        {
          "output_type": "execute_result",
          "data": {
            "text/plain": [
              "True"
            ]
          },
          "metadata": {},
          "execution_count": 51
        }
      ],
      "source": [
        "\"hi hello\" != \"hello hi\""
      ]
    },
    {
      "cell_type": "code",
      "execution_count": 52,
      "metadata": {
        "ExecuteTime": {
          "end_time": "2021-12-19T07:17:38.518707Z",
          "start_time": "2021-12-19T07:17:38.510650Z"
        },
        "id": "SpNbQmceAIQd"
      },
      "outputs": [],
      "source": [
        "a = 10\n",
        "b = 10\n"
      ]
    },
    {
      "cell_type": "code",
      "execution_count": 53,
      "metadata": {
        "ExecuteTime": {
          "end_time": "2021-12-19T07:17:39.574366Z",
          "start_time": "2021-12-19T07:17:39.556411Z"
        },
        "colab": {
          "base_uri": "https://localhost:8080/"
        },
        "id": "3OJiSh5FAIQd",
        "outputId": "3a749976-ba5d-414e-d08b-fd8cd9ab7cde"
      },
      "outputs": [
        {
          "output_type": "execute_result",
          "data": {
            "text/plain": [
              "True"
            ]
          },
          "metadata": {},
          "execution_count": 53
        }
      ],
      "source": [
        "a is b"
      ]
    },
    {
      "cell_type": "code",
      "execution_count": 54,
      "metadata": {
        "ExecuteTime": {
          "end_time": "2021-12-19T07:17:41.155501Z",
          "start_time": "2021-12-19T07:17:41.146489Z"
        },
        "id": "AC5YDOm-AIQd"
      },
      "outputs": [],
      "source": [
        "a = 39999\n",
        "b = 39999\n"
      ]
    },
    {
      "cell_type": "code",
      "execution_count": 55,
      "metadata": {
        "ExecuteTime": {
          "end_time": "2021-12-19T07:17:44.872665Z",
          "start_time": "2021-12-19T07:17:44.855743Z"
        },
        "colab": {
          "base_uri": "https://localhost:8080/"
        },
        "id": "iiKW78i8AIQe",
        "outputId": "2a70e515-2522-4354-8e35-e1f5b2fde8f7"
      },
      "outputs": [
        {
          "output_type": "execute_result",
          "data": {
            "text/plain": [
              "False"
            ]
          },
          "metadata": {},
          "execution_count": 55
        }
      ],
      "source": [
        "a is b"
      ]
    },
    {
      "cell_type": "code",
      "execution_count": 56,
      "metadata": {
        "ExecuteTime": {
          "end_time": "2021-12-19T07:18:25.604249Z",
          "start_time": "2021-12-19T07:18:25.582308Z"
        },
        "colab": {
          "base_uri": "https://localhost:8080/"
        },
        "id": "A4wqRzIqAIQe",
        "outputId": "ebb62107-354a-46bd-f006-89534444ebfc"
      },
      "outputs": [
        {
          "output_type": "execute_result",
          "data": {
            "text/plain": [
              "True"
            ]
          },
          "metadata": {},
          "execution_count": 56
        }
      ],
      "source": [
        "a = 256\n",
        "b = 256\n",
        "a is b"
      ]
    },
    {
      "cell_type": "code",
      "execution_count": 57,
      "metadata": {
        "ExecuteTime": {
          "end_time": "2021-12-19T07:18:30.479466Z",
          "start_time": "2021-12-19T07:18:30.466497Z"
        },
        "colab": {
          "base_uri": "https://localhost:8080/"
        },
        "id": "uNsbmx6GAIQe",
        "outputId": "431d7423-6e46-4365-f484-0328d8c519ce"
      },
      "outputs": [
        {
          "output_type": "execute_result",
          "data": {
            "text/plain": [
              "True"
            ]
          },
          "metadata": {},
          "execution_count": 57
        }
      ],
      "source": [
        "a = 'hello'\n",
        "b = 'hello'\n",
        "a is b"
      ]
    },
    {
      "cell_type": "code",
      "execution_count": 58,
      "metadata": {
        "ExecuteTime": {
          "end_time": "2021-12-19T07:18:45.033154Z",
          "start_time": "2021-12-19T07:18:45.018198Z"
        },
        "id": "PSSXfFhaAIQf"
      },
      "outputs": [],
      "source": [
        "a = 'Welcometopython'\n",
        "b = 'Welcometopython'"
      ]
    },
    {
      "cell_type": "code",
      "execution_count": 59,
      "metadata": {
        "ExecuteTime": {
          "end_time": "2021-12-19T07:18:46.504341Z",
          "start_time": "2021-12-19T07:18:46.491375Z"
        },
        "colab": {
          "base_uri": "https://localhost:8080/"
        },
        "id": "2T7DzALPAIQf",
        "outputId": "73450791-1cc1-46fa-9c71-6fcd88ab8a34"
      },
      "outputs": [
        {
          "output_type": "execute_result",
          "data": {
            "text/plain": [
              "True"
            ]
          },
          "metadata": {},
          "execution_count": 59
        }
      ],
      "source": [
        "a is b"
      ]
    },
    {
      "cell_type": "markdown",
      "metadata": {
        "id": "MzMrF1EnAIQf"
      },
      "source": [
        "## Conditional statements"
      ]
    },
    {
      "cell_type": "code",
      "execution_count": 60,
      "metadata": {
        "colab": {
          "base_uri": "https://localhost:8080/"
        },
        "id": "Qo3I9wUaAIQg",
        "outputId": "5a05cc85-a161-4127-bcf2-0640f60910b8"
      },
      "outputs": [
        {
          "output_type": "stream",
          "name": "stdout",
          "text": [
            "This is always printed.\n"
          ]
        }
      ],
      "source": [
        "# If\n",
        "num = -5\n",
        "if num > 0:\n",
        "    print(num, \"is a positive number.\") \n",
        "print(\"This is always printed.\")"
      ]
    },
    {
      "cell_type": "code",
      "execution_count": 61,
      "metadata": {
        "colab": {
          "base_uri": "https://localhost:8080/"
        },
        "id": "g98t64P3AIQg",
        "outputId": "0ed640b3-b252-415d-bf43-0fa79a6a2ab9"
      },
      "outputs": [
        {
          "output_type": "stream",
          "name": "stdout",
          "text": [
            "Negative number\n"
          ]
        }
      ],
      "source": [
        "# If else:\n",
        "num = -5\n",
        "\n",
        "if (num > 0):\n",
        "    print(\"Positive\")\n",
        "else:\n",
        "    print(\"Negative number\")"
      ]
    },
    {
      "cell_type": "code",
      "execution_count": 62,
      "metadata": {
        "colab": {
          "base_uri": "https://localhost:8080/"
        },
        "id": "6QYydPogAIQg",
        "outputId": "59aa98ac-b187-479e-ec73-80efc8253086"
      },
      "outputs": [
        {
          "output_type": "stream",
          "name": "stdout",
          "text": [
            "1150\n"
          ]
        }
      ],
      "source": [
        "## Define a function with conditional statement\n",
        "\n",
        "def max_num(num1,num2,num3):\n",
        "\n",
        "    if num1 >= num2 and num1 >= num3:\n",
        "\n",
        "          return num1\n",
        "\n",
        "    elif num2 >= num1 and num2 >= num3:\n",
        "          return num2\n",
        "\n",
        "    else:\n",
        "          return num3\n",
        "print(max_num(400,60,1150))\n"
      ]
    },
    {
      "cell_type": "code",
      "execution_count": 63,
      "metadata": {
        "colab": {
          "base_uri": "https://localhost:8080/"
        },
        "id": "OLZxl5pdAIQh",
        "outputId": "88edbb52-9db6-4691-ba2a-f8a7949750a5"
      },
      "outputs": [
        {
          "output_type": "stream",
          "name": "stdout",
          "text": [
            "Enter a number: -7\n",
            "Negative number\n"
          ]
        }
      ],
      "source": [
        "# Nested If\n",
        "num = int(input(\"Enter a number: \"))\n",
        "\n",
        "\n",
        "if num >= 0:\n",
        "    if num == 0:\n",
        "        print(\"Zero\")\n",
        "    else:\n",
        "        print(\"Positive number\")\n",
        "else:\n",
        "    print(\"Negative number\")"
      ]
    },
    {
      "cell_type": "markdown",
      "metadata": {
        "id": "PcWvwU_kAIQh"
      },
      "source": [
        "##  For loop"
      ]
    },
    {
      "cell_type": "code",
      "execution_count": 64,
      "metadata": {
        "colab": {
          "base_uri": "https://localhost:8080/"
        },
        "id": "5tG9b4FgAIQh",
        "outputId": "43ab81e5-b941-4302-d9ea-b80085e54b72"
      },
      "outputs": [
        {
          "output_type": "stream",
          "name": "stdout",
          "text": [
            "current snack:  pizza\n",
            "current snack:  burger\n",
            "current snack:  shawarma\n",
            "current snack:  franky\n",
            "Good day!\n"
          ]
        }
      ],
      "source": [
        "# for Loop\n",
        "# for each item in sequence , last item reached , no - body of loop , yes , exit loop\n",
        "\n",
        "\n",
        "#Ex:1\n",
        "\n",
        "snacks = ['pizza','burger','shawarma','franky']\n",
        "\n",
        "for x in snacks:\n",
        "    print(\"current snack: \", x)\n",
        "print(\"Good day!\")\n"
      ]
    },
    {
      "cell_type": "code",
      "execution_count": 66,
      "metadata": {
        "colab": {
          "base_uri": "https://localhost:8080/"
        },
        "id": "8DcRnx5-AIQi",
        "outputId": "a04f58d8-81d1-4e5c-8319-6cbe79a7e68a"
      },
      "outputs": [
        {
          "output_type": "stream",
          "name": "stdout",
          "text": [
            "number: 56\n",
            "factorial =   710998587804863451854045647463724949736497978881168458687447040000000000000\n"
          ]
        }
      ],
      "source": [
        "#Ex:2\n",
        "\n",
        "num = int(input(\"number: \"))\n",
        "factorial =1\n",
        "\n",
        "if num < 0:\n",
        "    print(\"must be positive\")\n",
        "elif num == 0:\n",
        "    print(\"factorial = 1\")\n",
        "else:\n",
        "    for i in range(1,num+1):\n",
        "        factorial = factorial * i\n",
        "    print(\"factorial =  \" ,factorial)"
      ]
    },
    {
      "cell_type": "code",
      "execution_count": 67,
      "metadata": {
        "colab": {
          "base_uri": "https://localhost:8080/"
        },
        "id": "JKpqwOM8AIQi",
        "outputId": "ac8f6f47-c3f8-4669-f80c-2bb8ebc0f26e"
      },
      "outputs": [
        {
          "output_type": "stream",
          "name": "stdout",
          "text": [
            "0 0\n",
            "0 1\n",
            "0 2\n",
            "1 0\n",
            "1 1\n",
            "1 2\n",
            "2 0\n",
            "2 1\n",
            "2 2\n"
          ]
        }
      ],
      "source": [
        "#Nested for loop\n",
        "\n",
        "for i in range(0,3):\n",
        "    for j in range(0,3):\n",
        "        print(i,j)\n"
      ]
    },
    {
      "cell_type": "code",
      "execution_count": 68,
      "metadata": {
        "colab": {
          "base_uri": "https://localhost:8080/"
        },
        "id": "OlfM9oEyAIQj",
        "outputId": "78648eeb-6e6f-4f10-e70b-f493e410b851"
      },
      "outputs": [
        {
          "output_type": "stream",
          "name": "stdout",
          "text": [
            "0\n",
            "1\n",
            "5\n",
            "No items left.\n"
          ]
        }
      ],
      "source": [
        "# For loop with else:\n",
        "digits = [0, 1, 5]\n",
        "\n",
        "for i in digits:\n",
        "    print(i)\n",
        "else:\n",
        "    print(\"No items left.\")"
      ]
    },
    {
      "cell_type": "markdown",
      "metadata": {
        "id": "jh-IulnPAIQj"
      },
      "source": [
        "## While loop"
      ]
    },
    {
      "cell_type": "code",
      "execution_count": 69,
      "metadata": {
        "colab": {
          "base_uri": "https://localhost:8080/"
        },
        "id": "i1SqGa6AAIQj",
        "outputId": "42275772-b72f-422d-d0b5-f08c165ad098"
      },
      "outputs": [
        {
          "output_type": "stream",
          "name": "stdout",
          "text": [
            "The sum is 10\n"
          ]
        }
      ],
      "source": [
        "# initialize sum and counter\n",
        "n = 4\n",
        "sum = 0\n",
        "i = 1\n",
        "\n",
        "while i <= n:\n",
        "    sum = sum + i\n",
        "    i = i+1    # update counter\n",
        "\n",
        "# print the sum\n",
        "print(\"The sum is\", sum)\n"
      ]
    },
    {
      "cell_type": "code",
      "execution_count": 70,
      "metadata": {
        "colab": {
          "base_uri": "https://localhost:8080/"
        },
        "id": "dXN5NObIAIQk",
        "outputId": "d92cf95d-fe3a-478e-f761-836aa8adec12"
      },
      "outputs": [
        {
          "output_type": "stream",
          "name": "stdout",
          "text": [
            "Inside loop\n",
            "Inside loop\n",
            "Inside loop\n",
            "Inside else\n"
          ]
        }
      ],
      "source": [
        "# While loop with else\n",
        "# Example to illustrate\n",
        "# the use of else statement\n",
        "# with the while loop\n",
        "\n",
        "counter = 0\n",
        "\n",
        "while counter < 3:\n",
        "    print(\"Inside loop\")\n",
        "    counter = counter + 1\n",
        "else:\n",
        "    print(\"Inside else\")\n"
      ]
    },
    {
      "cell_type": "code",
      "execution_count": 71,
      "metadata": {
        "colab": {
          "base_uri": "https://localhost:8080/"
        },
        "id": "hDKDxTz6AIQk",
        "outputId": "c9cb6284-aebe-40f3-f85d-551467b48615"
      },
      "outputs": [
        {
          "output_type": "stream",
          "name": "stdout",
          "text": [
            "Digit:  0\n",
            "Digit:  1\n",
            "Digit:  2\n",
            "Digit:  3\n",
            "Digit:  4\n",
            "Digit:  5\n",
            "Digit:  6\n",
            "Digit:  7\n",
            "Digit:  8\n",
            "Digit:  9\n",
            "Digit:  10\n",
            "Digit:  11\n",
            "Digit:  12\n",
            "Digit:  13\n",
            "Digit:  14\n",
            "Digit:  15\n",
            "Digit:  16\n",
            "Digit:  17\n",
            "Digit:  18\n",
            "Digit:  19\n",
            "Thank you\n"
          ]
        }
      ],
      "source": [
        "#Ex: 1\n",
        "\n",
        "count = 0\n",
        "\n",
        "while count < 20:\n",
        "    print(\"Digit: \", count)\n",
        "    count = count + 1\n",
        "\n",
        "print(\"Thank you\")"
      ]
    },
    {
      "cell_type": "markdown",
      "metadata": {
        "id": "ML93_-aJAIQk"
      },
      "source": [
        "## Functions"
      ]
    },
    {
      "cell_type": "code",
      "execution_count": 72,
      "metadata": {
        "id": "Lozu7vvBAIQk"
      },
      "outputs": [],
      "source": [
        "def myfunc():\n",
        "    print('Hello')"
      ]
    },
    {
      "cell_type": "code",
      "execution_count": 73,
      "metadata": {
        "colab": {
          "base_uri": "https://localhost:8080/"
        },
        "id": "FDObJi9EAIQl",
        "outputId": "6b39ce37-f050-4582-e59d-497521044d9a"
      },
      "outputs": [
        {
          "output_type": "stream",
          "name": "stdout",
          "text": [
            "Hello\n"
          ]
        }
      ],
      "source": [
        "myfunc()"
      ]
    },
    {
      "cell_type": "code",
      "execution_count": 74,
      "metadata": {
        "id": "7OLbHlUwAIQl"
      },
      "outputs": [],
      "source": [
        "def myfunc(name):\n",
        "    print('Hello',name)"
      ]
    },
    {
      "cell_type": "code",
      "execution_count": 75,
      "metadata": {
        "colab": {
          "base_uri": "https://localhost:8080/"
        },
        "id": "TKij42dvAIQl",
        "outputId": "0179d637-106c-4063-dafa-038114cd57ec"
      },
      "outputs": [
        {
          "output_type": "stream",
          "name": "stdout",
          "text": [
            "Hello hi\n"
          ]
        }
      ],
      "source": [
        "myfunc('hi')"
      ]
    },
    {
      "cell_type": "code",
      "execution_count": 76,
      "metadata": {
        "id": "N8vR14gPAIQl"
      },
      "outputs": [],
      "source": [
        "def squares(x):\n",
        "    return x**2"
      ]
    },
    {
      "cell_type": "code",
      "execution_count": 77,
      "metadata": {
        "colab": {
          "base_uri": "https://localhost:8080/"
        },
        "id": "qQhvOkToAIQl",
        "outputId": "c28a8dba-aa70-430e-a7d6-77a317f74b7a"
      },
      "outputs": [
        {
          "output_type": "execute_result",
          "data": {
            "text/plain": [
              "36"
            ]
          },
          "metadata": {},
          "execution_count": 77
        }
      ],
      "source": [
        "squares(6)"
      ]
    },
    {
      "cell_type": "markdown",
      "metadata": {
        "id": "J-Bvuo1wAIQm"
      },
      "source": [
        "## Lambda function"
      ]
    },
    {
      "cell_type": "code",
      "execution_count": 78,
      "metadata": {
        "id": "lQhy045_AIQm"
      },
      "outputs": [],
      "source": [
        "fn = lambda x : x**2"
      ]
    },
    {
      "cell_type": "code",
      "execution_count": 79,
      "metadata": {
        "colab": {
          "base_uri": "https://localhost:8080/"
        },
        "id": "aFGLER_GAIQm",
        "outputId": "10c2dabc-596c-47a4-c2a5-0e5db4dfc284"
      },
      "outputs": [
        {
          "output_type": "execute_result",
          "data": {
            "text/plain": [
              "16"
            ]
          },
          "metadata": {},
          "execution_count": 79
        }
      ],
      "source": [
        "fn(4)"
      ]
    },
    {
      "cell_type": "code",
      "execution_count": 80,
      "metadata": {
        "colab": {
          "base_uri": "https://localhost:8080/"
        },
        "id": "oX3P8t8VAIQm",
        "outputId": "c313482a-4444-4e6f-9bf6-ff72ff636f00"
      },
      "outputs": [
        {
          "output_type": "execute_result",
          "data": {
            "text/plain": [
              "function"
            ]
          },
          "metadata": {},
          "execution_count": 80
        }
      ],
      "source": [
        "type(fn)"
      ]
    },
    {
      "cell_type": "code",
      "execution_count": 81,
      "metadata": {
        "colab": {
          "base_uri": "https://localhost:8080/"
        },
        "id": "Ixz2a95YAIQn",
        "outputId": "250dfd3f-832b-4723-c44c-930f90240254"
      },
      "outputs": [
        {
          "output_type": "execute_result",
          "data": {
            "text/plain": [
              "['c++', 'c', 'python', 'java', 'mysql123']"
            ]
          },
          "metadata": {},
          "execution_count": 81
        }
      ],
      "source": [
        "lst = ['c++','c','python','java','mysql123']\n",
        "lst"
      ]
    },
    {
      "cell_type": "code",
      "execution_count": 82,
      "metadata": {
        "id": "9chNJLkUAIQn"
      },
      "outputs": [],
      "source": [
        "lst.sort(key = lambda x: len(x))"
      ]
    },
    {
      "cell_type": "code",
      "execution_count": 83,
      "metadata": {
        "colab": {
          "base_uri": "https://localhost:8080/"
        },
        "id": "2KsYRxkWAIQn",
        "outputId": "7e2ef71e-2249-4d6f-8d05-aaf1ac3ea902"
      },
      "outputs": [
        {
          "output_type": "execute_result",
          "data": {
            "text/plain": [
              "['c', 'c++', 'java', 'python', 'mysql123']"
            ]
          },
          "metadata": {},
          "execution_count": 83
        }
      ],
      "source": [
        "lst"
      ]
    },
    {
      "cell_type": "code",
      "execution_count": 83,
      "metadata": {
        "id": "z1GeNQQIAIQo"
      },
      "outputs": [],
      "source": [
        ""
      ]
    }
  ],
  "metadata": {
    "gist": {
      "data": {
        "description": "Desktop/python/python3rdclass.ipynb",
        "public": true
      },
      "id": ""
    },
    "hide_input": false,
    "kernelspec": {
      "display_name": "Python 3",
      "language": "python",
      "name": "python3"
    },
    "language_info": {
      "codemirror_mode": {
        "name": "ipython",
        "version": 3
      },
      "file_extension": ".py",
      "mimetype": "text/x-python",
      "name": "python",
      "nbconvert_exporter": "python",
      "pygments_lexer": "ipython3",
      "version": "3.8.8"
    },
    "varInspector": {
      "cols": {
        "lenName": 16,
        "lenType": 16,
        "lenVar": 40
      },
      "kernels_config": {
        "python": {
          "delete_cmd_postfix": "",
          "delete_cmd_prefix": "del ",
          "library": "var_list.py",
          "varRefreshCmd": "print(var_dic_list())"
        },
        "r": {
          "delete_cmd_postfix": ") ",
          "delete_cmd_prefix": "rm(",
          "library": "var_list.r",
          "varRefreshCmd": "cat(var_dic_list()) "
        }
      },
      "types_to_exclude": [
        "module",
        "function",
        "builtin_function_or_method",
        "instance",
        "_Feature"
      ],
      "window_display": false
    },
    "colab": {
      "name": "python3rdclass.ipynb",
      "provenance": [],
      "include_colab_link": true
    }
  },
  "nbformat": 4,
  "nbformat_minor": 0
}