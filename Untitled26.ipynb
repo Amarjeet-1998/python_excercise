{
  "nbformat": 4,
  "nbformat_minor": 0,
  "metadata": {
    "colab": {
      "name": "Untitled26.ipynb",
      "provenance": [],
      "authorship_tag": "ABX9TyOPVQLA6rcqFm7hfakv88qX",
      "include_colab_link": true
    },
    "kernelspec": {
      "name": "python3",
      "display_name": "Python 3"
    },
    "language_info": {
      "name": "python"
    }
  },
  "cells": [
    {
      "cell_type": "markdown",
      "metadata": {
        "id": "view-in-github",
        "colab_type": "text"
      },
      "source": [
        "<a href=\"https://colab.research.google.com/github/Amarjeet-1998/python_excercise/blob/main/Untitled26.ipynb\" target=\"_parent\"><img src=\"https://colab.research.google.com/assets/colab-badge.svg\" alt=\"Open In Colab\"/></a>"
      ]
    },
    {
      "cell_type": "markdown",
      "metadata": {
        "id": "RBNRG19Z6H6_"
      },
      "source": [
        "The main focus of this article is to introduce hypothesis testing and illustrate with a few examples in Python.  Whatever be the concept, its execution can be done easily with programming languages like Python. But, the most important part is drawing inference out of the output and it is highly recommended to know the math behind the executed code.\n",
        "\n",
        "Hypothesis testing is important in statistics because it gives statistical evidence to show the validity of the study. The null hypothesis states that there is no statistical significance exists between sets of data which implies that the population parameter will be equal to a hypothesized value. Usually, We state the alternative hypothesis which we want to prove. For a null hypothesis H0 and its complementary alternative hypothesis H1, there are 3 cases when the parametric value under H0 ≠ H1 or H0 < H1 or H0 > H1.\n",
        "\n",
        "Let’s consider a scenario where I have stated the hypothesis, a relevant test statistic, and the Python code for your understanding. I have coded the conclusion part too. Here, I have shared with you few cases instead of covering all. In this blog, I would like to give examples for one sample t-test, two-sample t-test, and paired t-test using Python.\n",
        "\n",
        "One sample t-test\n",
        "Data:\n",
        "Systolic blood pressures of 14 patients are given below:\n",
        "\n",
        "183, 152, 178, 157, 194, 163, 144, 114, 178, 152, 118, 158, 172, 138\n",
        "\n",
        "Test, whether the population mean, is less than 165\n",
        "\n",
        "Hypothesis\n",
        "H0: There is no significant mean difference in systolic blood pressure. i.e., μ = 165\n",
        "\n",
        "H1: The population mean is less than 165. i.e., μ < 165\n",
        "\n",
        "Test statistic  \n",
        " \n",
        "\n",
        "Where,\n",
        "\n",
        "x̄ is sample mean\n",
        "\n",
        "μ is the population mean\n",
        "\n",
        "s is sample standard deviation\n",
        "\n",
        "n is the number of observations;\n",
        "\n",
        "Code"
      ]
    },
    {
      "cell_type": "code",
      "metadata": {
        "id": "Lm_EpevV3OFg"
      },
      "source": [
        "sys_bp=[183, 152, 178, 157, 194, 163, 144, 114, 178, 152, 118, 158, 172, 138]\n",
        "\n",
        "\n",
        "mu=165\n",
        "\n"
      ],
      "execution_count": 1,
      "outputs": []
    },
    {
      "cell_type": "code",
      "metadata": {
        "id": "xJQKSS553daS"
      },
      "source": [
        "from scipy import stats\n",
        "\n",
        "t_value,p_value=stats.ttest_1samp(sys_bp,mu)\n",
        "\n",
        "one_tailed_p_value=float(\"{:.6f}\".format(p_value/2)) # Since alternative hypothesis is one tailed, We need to divide the p value by 2."
      ],
      "execution_count": 2,
      "outputs": []
    },
    {
      "cell_type": "code",
      "metadata": {
        "colab": {
          "base_uri": "https://localhost:8080/"
        },
        "id": "7nAS2Zxy3j5w",
        "outputId": "1c9c0471-ff91-4d9b-b299-2d73886c427d"
      },
      "source": [
        "\n",
        "print('Test statistic is %f'%float(\"{:.6f}\".format(t_value)))\n",
        "\n",
        "print('p-value for one tailed test is %f'%one_tailed_p_value)"
      ],
      "execution_count": 3,
      "outputs": [
        {
          "output_type": "stream",
          "name": "stdout",
          "text": [
            "Test statistic is -1.243183\n",
            "p-value for one tailed test is 0.117877\n"
          ]
        }
      ]
    },
    {
      "cell_type": "markdown",
      "metadata": {
        "id": "lCg5yNtv6YZB"
      },
      "source": [
        "So we conclude that there is a significant mean difference in systolic blood pressure.\n",
        "i.e., μ < 165 at %.2f level of significance”’%alpha)\n",
        "\n",
        "# **Two sample t-test**\n",
        "# Data:\n",
        "Compare the effectiveness of ammonium chloride and urea, on the grain yield of paddy, an experiment was conducted. The results are given below:\n",
        "\n",
        "Ammonium\n",
        "chloride (X1)\n",
        "\n",
        "13.4\t10.9\t11.2\t11.8\t14\t15.3\t14.2\t12.6\t17\t16.2\t16.5\t15.7\n",
        "Urea (X2)\t12\t11.7\t10.7\t11.2\t14.8\t14.4\t13.9\t13.7\t16.9\t16\t15.6\t16\n",
        "\n",
        "Hypothesis\n",
        "H0: The effect of ammonium chloride and urea on grain yield of paddy are equal i.e., μ1 = μ2\n",
        "\n",
        "H1: The effect of ammonium chloride and urea on grain yield of paddy is not equal i.e., μ1 ≠ μ2\n",
        "\n",
        "Test statistic\n",
        "\n",
        "\n",
        "Where,\n",
        "\n",
        "x̄1 and x̄2 are sample means for x1 and x2 respectively.\n",
        "\n",
        "n1 and n2 are the numbers of observations in x1 and x2 respectively.\n",
        "\n",
        "s1 and s2 are the sample standard deviation for x1 and x2 respectively.\n",
        "\n",
        "Code"
      ]
    },
    {
      "cell_type": "code",
      "metadata": {
        "colab": {
          "base_uri": "https://localhost:8080/"
        },
        "id": "7tEXeBkQ3pXg",
        "outputId": "8706667b-eac6-4a16-a880-1d4a26d7964d"
      },
      "source": [
        "alpha = 0.05\n",
        "if one_tailed_p_value<=alpha:\n",
        "\n",
        "    print('Conclusion','n','Since p-value(=%f)'%p_value,'<','alpha(=%.2f)'%alpha,'''We reject the null hypothesis H0. \n",
        "\n",
        "So we conclude that there is no significant mean difference in systolic blood pressure. \n",
        "\n",
        "i.e., μ = 165 at %.2f level of significance'''%alpha)\n",
        "else:\n",
        "   print('Conclusion','n','Since p-value(=%f)'%one_tailed_p_value,'>','alpha(=%.2f)'%alpha,'We do not reject the null hypothesis H0')\n",
        "           \n",
        "\n"
      ],
      "execution_count": 19,
      "outputs": [
        {
          "output_type": "stream",
          "name": "stdout",
          "text": [
            "Conclusion n Since p-value(=0.117877) > alpha(=0.05) We do not reject the null hypothesis H0\n"
          ]
        }
      ]
    },
    {
      "cell_type": "code",
      "metadata": {
        "id": "uiJZtCkb4eRa"
      },
      "source": [
        "Ammonium_chloride=[13.4,10.9,11.2,11.8,14,15.3,14.2,12.6,17,16.2,16.5,15.7]\n",
        "Urea=[12,11.7,10.7,11.2,14.8,14.4,13.9,13.7,16.9,16,15.6,16]"
      ],
      "execution_count": 15,
      "outputs": []
    },
    {
      "cell_type": "code",
      "metadata": {
        "colab": {
          "base_uri": "https://localhost:8080/"
        },
        "id": "iO646km35JAE",
        "outputId": "1765b720-e0a2-4153-c13a-22ca7dfa989f"
      },
      "source": [
        "from scipy import stats\n",
        "\n",
        "t_value,p_value=stats.ttest_ind(Ammonium_chloride,Urea)\n",
        "\n",
        "print('Test statistic is %f'%float(\"{:.6f}\".format(t_value)))\n",
        "\n",
        "print('p-value for two tailed test is %f'%p_value)\n",
        "\n",
        "alpha = 0.05\n",
        "\n",
        "if p_value<=alpha:\n",
        "   print('Conclusion','n','Since p-value(=%f)'%p_value,'<','alpha(=%.2f)'%alpha,'''We reject the null hypothesis H0. So we conclude that the \n",
        "\n",
        "effect of ammonium chloride and urea on grain yield of paddy are not equal i.e., μ1 = μ2 at %.2f level of significance.'''%alpha)\n",
        "\n",
        "else:\n",
        "\n",
        "    print('Conclusion','n','Since p-value(=%f)'%p_value,'>','alpha(=%.2f)'%alpha,'We do not reject the null hypothesis H0')"
      ],
      "execution_count": 18,
      "outputs": [
        {
          "output_type": "stream",
          "name": "stdout",
          "text": [
            "Test statistic is 0.184650\n",
            "p-value for two tailed test is 0.855195\n",
            "Conclusion n Since p-value(=0.855195) > alpha(=0.05) We do not reject the null hypothesis H0\n"
          ]
        }
      ]
    },
    {
      "cell_type": "code",
      "metadata": {
        "id": "6xW6Q4pf5RWG"
      },
      "source": [
        "alpha = 0.05\n",
        "first_test =[23, 20, 19, 21, 18, 20, 18, 17, 23, 16, 19]\n",
        "second_test=[24, 19, 22, 18, 20, 22, 20, 20, 23, 20, 18]"
      ],
      "execution_count": 20,
      "outputs": []
    },
    {
      "cell_type": "code",
      "metadata": {
        "colab": {
          "base_uri": "https://localhost:8080/"
        },
        "id": "wd4XOHJX5r9X",
        "outputId": "36b861d3-958f-44d1-d4b3-7d6b9c250e39"
      },
      "source": [
        "from scipy import stats\n",
        "\n",
        "t_value,p_value=stats.ttest_rel(first_test,second_test)\n",
        "\n",
        "one_tailed_p_value=float(\"{:.6f}\".format(p_value/2)) \n",
        "\n",
        "print('Test statistic is %f'%float(\"{:.6f}\".format(t_value)))\n",
        "\n",
        "print('p-value for one_tailed_test is %f'%one_tailed_p_value)\n",
        "\n",
        "alpha = 0.05\n",
        "\n",
        "if one_tailed_p_value<=alpha:\n",
        "\n",
        "    print('Conclusion','n','Since p-value(=%f)'%one_tailed_p_value,'<','alpha(=%.2f)'%alpha,'''We reject the null hypothesis H0. \n",
        "\n",
        "So we conclude that the students have benefited by the tuition class. i.e., d = 0 at %.2f level of significance.'''%alpha)\n",
        "\n",
        "else:\n",
        "\n",
        "    print('Conclusion','n','Since p-value(=%f)'%one_tailed_p_value,'>','alpha(=%.2f)'%alpha,'''We do not reject the null hypothesis H0. \n",
        "\n",
        "So we conclude that the students have not benefited by the tuition class. i.e., d = 0 at %.2f level of significance.'''%alpha)"
      ],
      "execution_count": 21,
      "outputs": [
        {
          "output_type": "stream",
          "name": "stdout",
          "text": [
            "Test statistic is -1.707331\n",
            "p-value for one_tailed_test is 0.059282\n",
            "Conclusion n Since p-value(=0.059282) > alpha(=0.05) We do not reject the null hypothesis H0. \n",
            "\n",
            "So we conclude that the students have not benefited by the tuition class. i.e., d = 0 at 0.05 level of significance.\n"
          ]
        }
      ]
    },
    {
      "cell_type": "code",
      "metadata": {
        "id": "ZrJwjwc45w8k"
      },
      "source": [
        ""
      ],
      "execution_count": null,
      "outputs": []
    }
  ]
}